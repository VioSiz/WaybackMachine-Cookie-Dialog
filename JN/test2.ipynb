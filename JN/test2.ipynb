{
 "cells": [
  {
   "cell_type": "code",
   "execution_count": 2,
   "metadata": {
    "datalore": {
     "hide_input_from_viewers": false,
     "hide_output_from_viewers": false,
     "node_id": "hsxyctA103zgNckh6fJPf8",
     "report_properties": {},
     "type": "CODE"
    }
   },
   "outputs": [],
   "source": [
    "import datetime\n",
    "from time import sleep\n",
    "\n",
    "from selenium import webdriver\n",
    "from selenium.webdriver.common.by import By\n",
    "from selenium.webdriver.firefox.options import Options as FirefoxOptions\n",
    "from selenium.webdriver.firefox.service import Service as FirefoxService\n",
    "from selenium.webdriver.support import expected_conditions as EC\n",
    "from selenium.webdriver.support.ui import WebDriverWait\n",
    "from tranco import Tranco\n",
    "import json\n",
    "import waybackpy"
   ]
  },
  {
   "cell_type": "code",
   "execution_count": 3,
   "metadata": {
    "datalore": {
     "hide_input_from_viewers": false,
     "hide_output_from_viewers": false,
     "node_id": "48t9Bbx2hK0gU3TVamIAVP",
     "report_properties": {},
     "type": "CODE"
    }
   },
   "outputs": [],
   "source": [
    "def cookies_before_click(driver, url):\n",
    "    driver.get(url)\n",
    "\n",
    "    sleep(10)\n",
    "\n",
    "    cookies_before_click = driver.get_cookies()\n",
    "\n",
    "    return cookies_before_click"
   ]
  },
  {
   "cell_type": "code",
   "execution_count": 80,
   "metadata": {},
   "outputs": [],
   "source": [
    "def cookies_before_and_after_accept(driver, url):\n",
    "    driver.get(url)\n",
    "    \n",
    "    sleep(20)\n",
    "    \n",
    "    cookies_before_click = driver.get_cookies()\n",
    "    \n",
    "    print(click_banner(driver))\n",
    "    \n",
    "    sleep(10)\n",
    "    \n",
    "    cookies_accept_all = driver.get_cookies()\n",
    "    \n",
    "    return cookies_before_click, cookies_accept_all"
   ]
  },
  {
   "cell_type": "code",
   "execution_count": 5,
   "metadata": {
    "datalore": {
     "hide_input_from_viewers": false,
     "hide_output_from_viewers": false,
     "node_id": "0czxFITvnpmtBDqNlGeYjb",
     "report_properties": {},
     "type": "CODE"
    }
   },
   "outputs": [],
   "source": [
    "def cookies_accept_all(driver, url):\n",
    "    driver.get(url)\n",
    "    driver.maximize_window()\n",
    "\n",
    "    # Find and click ACCEPT ALL button.\n",
    "    click_banner(driver)\n",
    "\n",
    "    #Scrap cookies once they are collected by the website. \n",
    "    sleep(10)\n",
    "    cookAfterAcceptAll = driver.get_cookies()\n",
    "\n",
    "    return cookies_accept_all"
   ]
  },
  {
   "cell_type": "code",
   "execution_count": 6,
   "metadata": {
    "datalore": {
     "hide_input_from_viewers": false,
     "hide_output_from_viewers": false,
     "node_id": "A6IJ6BfxgR6354tb8wTmLc",
     "report_properties": {},
     "type": "CODE"
    }
   },
   "outputs": [],
   "source": [
    "def click_reject_all(driver, url):\n",
    "    driver.get(url)\n",
    "    driver.maximize()\n",
    "    WebDriverWait(driver, 20).until(EC.element_to_be_clickable((By.CLASS_NAME, \"fc-cta-do-not-consent\"))).click()\n",
    "\n",
    "    sleep(10)\n",
    "\n",
    "    click_reject_all = driver.get_cookies()\n",
    "\n",
    "    return click_reject_all"
   ]
  },
  {
   "cell_type": "code",
   "execution_count": 7,
   "metadata": {
    "datalore": {
     "hide_input_from_viewers": false,
     "hide_output_from_viewers": false,
     "node_id": "vkgbnhtWb9ZGxCX8kzLljy",
     "report_properties": {},
     "type": "CODE"
    }
   },
   "outputs": [],
   "source": [
    "#https://github.com/marty90/priv-accept/blob/7c87be9441a6425160611d7fd91fd1e4ae7bceaf/priv-accept.py\n",
    "\n",
    "def click_banner(driver):\n",
    "    accept_words_list = set()\n",
    "    for w in open(\"accept_words_languages.txt\", \"r\", encoding=\"utf-8\").read().splitlines():\n",
    "        if not w.startswith(\"#\") and not w == \"\":\n",
    "            accept_words_list.add(w)\n",
    "\n",
    "    sleep(20)\n",
    "    content = driver.find_elements(By.CSS_SELECTOR, GLOBAL_SELECTOR)\n",
    "    for element in content:\n",
    "        try:\n",
    "            if element.text.lower().strip(\" ✓›!\\n\") in accept_words_list:\n",
    "                print(element.text)\n",
    "                print(\"and here\")\n",
    "                #WebDriverWait(driver, 20).until(EC.element_to_be_clickable((By.CSS_SELECTOR, driver.get(element)))).click()\n",
    "                element.click()\n",
    "                return {'successful': True, 'error': 'none'}\n",
    "        except Exception as e:\n",
    "            print(\"Failed\", e)\n",
    "            return {'successful': False, 'error': 'click_error'}\n",
    "    return {'successful': False, 'error': 'no_accept_button' }"
   ]
  },
  {
   "cell_type": "code",
   "execution_count": 15,
   "metadata": {
    "datalore": {
     "hide_input_from_viewers": true,
     "hide_output_from_viewers": true,
     "node_id": "byP85btWyZQ8ulxMaiJ4AW",
     "type": "CODE"
    }
   },
   "outputs": [],
   "source": [
    "# Initializing tranco-list.eu list.\n",
    "t = Tranco(cache=True, cache_dir='.tranco')\n",
    "#latest_list = t.list()\n",
    "\n",
    "# Get tranco list for the specific date\n",
    "date_list = t.list(date=DATE_TRANCO_LIST)"
   ]
  },
  {
   "cell_type": "code",
   "execution_count": 78,
   "metadata": {
    "datalore": {
     "hide_input_from_viewers": true,
     "hide_output_from_viewers": true,
     "node_id": "MhdF9cACKr2PFxP63eDb2Z",
     "type": "CODE"
    }
   },
   "outputs": [
    {
     "name": "stdout",
     "output_type": "stream",
     "text": [
      "{'free.fr': [('https://web.archive.org/web/20200714/free.fr', (2020, 7)), ('https://web.archive.org/web/20200814/free.fr', (2020, 8)), ('https://web.archive.org/web/20200914/free.fr', (2020, 9)), ('https://web.archive.org/web/20201015/free.fr', (2020, 10)), ('https://web.archive.org/web/20201115/free.fr', (2020, 11)), ('https://web.archive.org/web/20201216/free.fr', (2020, 12))], 'google.fr': [('https://web.archive.org/web/20200714/google.fr', (2020, 7)), ('https://web.archive.org/web/20200814/google.fr', (2020, 8)), ('https://web.archive.org/web/20200914/google.fr', (2020, 9)), ('https://web.archive.org/web/20201015/google.fr', (2020, 10)), ('https://web.archive.org/web/20201115/google.fr', (2020, 11)), ('https://web.archive.org/web/20201216/google.fr', (2020, 12))], 'amazon.fr': [('https://web.archive.org/web/20200714/amazon.fr', (2020, 7)), ('https://web.archive.org/web/20200814/amazon.fr', (2020, 8)), ('https://web.archive.org/web/20200914/amazon.fr', (2020, 9)), ('https://web.archive.org/web/20201015/amazon.fr', (2020, 10)), ('https://web.archive.org/web/20201115/amazon.fr', (2020, 11)), ('https://web.archive.org/web/20201216/amazon.fr', (2020, 12))]}\n"
     ]
    }
   ],
   "source": [
    "# Filter the list to what we are looking for.\n",
    "french_websites = [web for web in date_list.list if '.fr' in web]\n",
    "french_websites_www = [f'{website}' for website in french_websites]\n",
    "\n",
    "first_three_websites = french_websites_www[0:NUMBER_OF_WEBSITES]\n",
    "\n",
    "def waybackify_url(url, closest_timestamp):\n",
    "    return f'https://web.archive.org/web/{closest_timestamp}/{url}'\n",
    "\n",
    "loist = {}\n",
    "\n",
    "import time \n",
    "\n",
    "\n",
    "for i in first_three_websites:\n",
    "    loist2 = []\n",
    "    start_date = START_DATE_FRANCE\n",
    "    while start_date <= END_DATE_FRANCE:\n",
    "        url = waybackify_url(i, to_integer(start_date))\n",
    "        loist2.append((url, (start_date.year, start_date.month)))\n",
    "        start_date += delta\n",
    "    loist[i] = loist2\n",
    "\n",
    "def to_integer(dt_time):\n",
    "    return 10000*dt_time.year + 100*dt_time.month + dt_time.day\n",
    "\n",
    "#for el in list(base):\n",
    "#    time.mktime(datetime.datetime.strptime(el, \"%d/%m/%Y\").timetuple())\n",
    "    \n",
    "print(loist)\n",
    "#print(first_three_websites)"
   ]
  },
  {
   "cell_type": "code",
   "execution_count": 111,
   "metadata": {
    "datalore": {
     "hide_input_from_viewers": false,
     "hide_output_from_viewers": false,
     "node_id": "NW08dmReeaLgUo3Xh174Hk",
     "report_properties": {},
     "type": "CODE"
    }
   },
   "outputs": [],
   "source": [
    "def go_over_months(website):\n",
    "    # create object from passed website\n",
    "    wayback_obj = Url(website, USER_AGENT).save()\n",
    "    print(website)\n",
    "    print(wayback_obj)\n",
    "\n",
    "    # list of urls for the website for each month\n",
    "    urls_of_dates = []\n",
    "\n",
    "    # iterating between 01-07-2019 to 25-03-25 by jumps of 31 days \n",
    "    start_date = START_DATE_FRANCE\n",
    "\n",
    "    # append list of urls using wayback obect wuth specific date to interact with the API.\n",
    "    while start_date <= END_DATE_FRANCE:\n",
    "        # sometimes the API fails so in that case we simply try again\n",
    "        try:\n",
    "            urls_of_dates.append((wayback_obj.near(year=start_date.year, month=start_date.month).archive_url, (start_date.year, start_date.month)))\n",
    "            print(urls_of_dates, \"Success.\")\n",
    "            0# go to the next month\n",
    "            start_date += delta\n",
    "            # the API is rather slow so we need to give some time to rest (:\n",
    "            sleep(3)\n",
    "        except Exception:\n",
    "            print(Exception)\n",
    "            continue\n",
    "    return urls_of_dates"
   ]
  },
  {
   "cell_type": "code",
   "execution_count": 112,
   "metadata": {},
   "outputs": [],
   "source": [
    "def go_over_websites(websites_list):\n",
    "    # Create 2D list of all websites urls for each month \n",
    "    get_list = {}\n",
    "    for url in websites_list:\n",
    "\n",
    "        # 2D list\n",
    "        get_list[url] = go_over_months(url)\n",
    "        print(get_list)\n",
    "        \n",
    "    return get_list"
   ]
  },
  {
   "cell_type": "code",
   "execution_count": 58,
   "metadata": {},
   "outputs": [],
   "source": [
    "user_option = ['NOTHING', 'ACCEPT', 'REJECT', 'MANAGE']\n",
    "GLOBAL_SELECTOR = \"a, button, div, span, form, p\"\n",
    "NUMBER_OF_WEBSITES = 3\n",
    "\n",
    "USER_AGENT = \"Mozilla/5.0 (Windows NT 10.0; Win64; x64; rv:105.0) Gecko/20100101 Firefox/105.0\"\n",
    "START_DATE_FRANCE = datetime.date(2020,7, 14)\n",
    "END_DATE_FRANCE = datetime.date(2020, 12, 25)\n",
    "delta = datetime.timedelta(days=31)\n",
    "\n",
    "DATE_TRANCO_LIST='2022-10-01'"
   ]
  },
  {
   "cell_type": "code",
   "execution_count": 114,
   "metadata": {
    "scrolled": true
   },
   "outputs": [
    {
     "name": "stdout",
     "output_type": "stream",
     "text": [
      "free.fr\n",
      "https://web.archive.org/web/20221013115108/https://www.free.fr/freebox/\n",
      "[('https://web.archive.org/web/20170616092025/http://www2004.free.fr/', (2020, 7))] Success.\n",
      "[('https://web.archive.org/web/20170616092025/http://www2004.free.fr/', (2020, 7)), ('https://web.archive.org/web/20170616092025/http://www2004.free.fr/', (2020, 8))] Success.\n",
      "[('https://web.archive.org/web/20170616092025/http://www2004.free.fr/', (2020, 7)), ('https://web.archive.org/web/20170616092025/http://www2004.free.fr/', (2020, 8)), ('https://web.archive.org/web/20170616092025/http://www2004.free.fr/', (2020, 9))] Success.\n",
      "[('https://web.archive.org/web/20170616092025/http://www2004.free.fr/', (2020, 7)), ('https://web.archive.org/web/20170616092025/http://www2004.free.fr/', (2020, 8)), ('https://web.archive.org/web/20170616092025/http://www2004.free.fr/', (2020, 9)), ('https://web.archive.org/web/20170616092025/http://www2004.free.fr/', (2020, 10))] Success.\n",
      "[('https://web.archive.org/web/20170616092025/http://www2004.free.fr/', (2020, 7)), ('https://web.archive.org/web/20170616092025/http://www2004.free.fr/', (2020, 8)), ('https://web.archive.org/web/20170616092025/http://www2004.free.fr/', (2020, 9)), ('https://web.archive.org/web/20170616092025/http://www2004.free.fr/', (2020, 10)), ('https://web.archive.org/web/20170616092025/http://www2004.free.fr/', (2020, 11))] Success.\n",
      "<class 'Exception'>\n",
      "<class 'Exception'>\n",
      "<class 'Exception'>\n",
      "<class 'Exception'>\n",
      "[('https://web.archive.org/web/20170616092025/http://www2004.free.fr/', (2020, 7)), ('https://web.archive.org/web/20170616092025/http://www2004.free.fr/', (2020, 8)), ('https://web.archive.org/web/20170616092025/http://www2004.free.fr/', (2020, 9)), ('https://web.archive.org/web/20170616092025/http://www2004.free.fr/', (2020, 10)), ('https://web.archive.org/web/20170616092025/http://www2004.free.fr/', (2020, 11)), ('https://web.archive.org/web/20170616092025/http://www2004.free.fr/', (2020, 12))] Success.\n",
      "{'free.fr': [('https://web.archive.org/web/20170616092025/http://www2004.free.fr/', (2020, 7)), ('https://web.archive.org/web/20170616092025/http://www2004.free.fr/', (2020, 8)), ('https://web.archive.org/web/20170616092025/http://www2004.free.fr/', (2020, 9)), ('https://web.archive.org/web/20170616092025/http://www2004.free.fr/', (2020, 10)), ('https://web.archive.org/web/20170616092025/http://www2004.free.fr/', (2020, 11)), ('https://web.archive.org/web/20170616092025/http://www2004.free.fr/', (2020, 12))]}\n"
     ]
    },
    {
     "ename": "KeyboardInterrupt",
     "evalue": "",
     "output_type": "error",
     "traceback": [
      "\u001b[1;31m---------------------------------------------------------------------------\u001b[0m",
      "\u001b[1;31mKeyboardInterrupt\u001b[0m                         Traceback (most recent call last)",
      "Cell \u001b[1;32mIn [114], line 1\u001b[0m\n\u001b[1;32m----> 1\u001b[0m dictory_of_urls \u001b[38;5;241m=\u001b[39m \u001b[43mgo_over_websites\u001b[49m\u001b[43m(\u001b[49m\u001b[43mfirst_three_websites\u001b[49m\u001b[43m)\u001b[49m\n",
      "Cell \u001b[1;32mIn [112], line 7\u001b[0m, in \u001b[0;36mgo_over_websites\u001b[1;34m(websites_list)\u001b[0m\n\u001b[0;32m      3\u001b[0m get_list \u001b[38;5;241m=\u001b[39m {}\n\u001b[0;32m      4\u001b[0m \u001b[38;5;28;01mfor\u001b[39;00m url \u001b[38;5;129;01min\u001b[39;00m websites_list:\n\u001b[0;32m      5\u001b[0m \n\u001b[0;32m      6\u001b[0m     \u001b[38;5;66;03m# 2D list\u001b[39;00m\n\u001b[1;32m----> 7\u001b[0m     get_list[url] \u001b[38;5;241m=\u001b[39m \u001b[43mgo_over_months\u001b[49m\u001b[43m(\u001b[49m\u001b[43murl\u001b[49m\u001b[43m)\u001b[49m\n\u001b[0;32m      8\u001b[0m     \u001b[38;5;28mprint\u001b[39m(get_list)\n\u001b[0;32m     10\u001b[0m \u001b[38;5;28;01mreturn\u001b[39;00m get_list\n",
      "Cell \u001b[1;32mIn [111], line 3\u001b[0m, in \u001b[0;36mgo_over_months\u001b[1;34m(website)\u001b[0m\n\u001b[0;32m      1\u001b[0m \u001b[38;5;28;01mdef\u001b[39;00m \u001b[38;5;21mgo_over_months\u001b[39m(website):\n\u001b[0;32m      2\u001b[0m     \u001b[38;5;66;03m# create object from passed website\u001b[39;00m\n\u001b[1;32m----> 3\u001b[0m     wayback_obj \u001b[38;5;241m=\u001b[39m \u001b[43mUrl\u001b[49m\u001b[43m(\u001b[49m\u001b[43mwebsite\u001b[49m\u001b[43m,\u001b[49m\u001b[43m \u001b[49m\u001b[43mUSER_AGENT\u001b[49m\u001b[43m)\u001b[49m\u001b[38;5;241;43m.\u001b[39;49m\u001b[43msave\u001b[49m\u001b[43m(\u001b[49m\u001b[43m)\u001b[49m\n\u001b[0;32m      4\u001b[0m     \u001b[38;5;28mprint\u001b[39m(website)\n\u001b[0;32m      5\u001b[0m     \u001b[38;5;28mprint\u001b[39m(wayback_obj)\n",
      "File \u001b[1;32m~\\AppData\\Local\\Programs\\Python\\Python310\\lib\\site-packages\\waybackpy\\wrapper.py:74\u001b[0m, in \u001b[0;36mUrl.save\u001b[1;34m(self)\u001b[0m\n\u001b[0;32m     70\u001b[0m \u001b[38;5;124;03m\"\"\"Save the URL on wayback machine.\"\"\"\u001b[39;00m\n\u001b[0;32m     71\u001b[0m \u001b[38;5;28mself\u001b[39m\u001b[38;5;241m.\u001b[39mwayback_machine_save_api \u001b[38;5;241m=\u001b[39m WaybackMachineSaveAPI(\n\u001b[0;32m     72\u001b[0m     \u001b[38;5;28mself\u001b[39m\u001b[38;5;241m.\u001b[39murl, user_agent\u001b[38;5;241m=\u001b[39m\u001b[38;5;28mself\u001b[39m\u001b[38;5;241m.\u001b[39muser_agent\n\u001b[0;32m     73\u001b[0m )\n\u001b[1;32m---> 74\u001b[0m \u001b[38;5;28mself\u001b[39m\u001b[38;5;241m.\u001b[39marchive_url \u001b[38;5;241m=\u001b[39m \u001b[38;5;28;43mself\u001b[39;49m\u001b[38;5;241;43m.\u001b[39;49m\u001b[43mwayback_machine_save_api\u001b[49m\u001b[38;5;241;43m.\u001b[39;49m\u001b[43marchive_url\u001b[49m\n\u001b[0;32m     75\u001b[0m \u001b[38;5;28mself\u001b[39m\u001b[38;5;241m.\u001b[39mtimestamp \u001b[38;5;241m=\u001b[39m \u001b[38;5;28mself\u001b[39m\u001b[38;5;241m.\u001b[39mwayback_machine_save_api\u001b[38;5;241m.\u001b[39mtimestamp()\n\u001b[0;32m     76\u001b[0m \u001b[38;5;28mself\u001b[39m\u001b[38;5;241m.\u001b[39mheaders \u001b[38;5;241m=\u001b[39m \u001b[38;5;28mself\u001b[39m\u001b[38;5;241m.\u001b[39mwayback_machine_save_api\u001b[38;5;241m.\u001b[39mheaders\n",
      "File \u001b[1;32m~\\AppData\\Local\\Programs\\Python\\Python310\\lib\\site-packages\\waybackpy\\save_api.py:64\u001b[0m, in \u001b[0;36mWaybackMachineSaveAPI.archive_url\u001b[1;34m(self)\u001b[0m\n\u001b[0;32m     61\u001b[0m \u001b[38;5;28;01mif\u001b[39;00m \u001b[38;5;28mself\u001b[39m\u001b[38;5;241m.\u001b[39m_archive_url:\n\u001b[0;32m     62\u001b[0m     \u001b[38;5;28;01mreturn\u001b[39;00m \u001b[38;5;28mself\u001b[39m\u001b[38;5;241m.\u001b[39m_archive_url\n\u001b[1;32m---> 64\u001b[0m \u001b[38;5;28;01mreturn\u001b[39;00m \u001b[38;5;28;43mself\u001b[39;49m\u001b[38;5;241;43m.\u001b[39;49m\u001b[43msave\u001b[49m\u001b[43m(\u001b[49m\u001b[43m)\u001b[49m\n",
      "File \u001b[1;32m~\\AppData\\Local\\Programs\\Python\\Python310\\lib\\site-packages\\waybackpy\\save_api.py:210\u001b[0m, in \u001b[0;36mWaybackMachineSaveAPI.save\u001b[1;34m(self)\u001b[0m\n\u001b[0;32m    207\u001b[0m \u001b[38;5;28;01mif\u001b[39;00m tries \u001b[38;5;241m>\u001b[39m\u001b[38;5;241m=\u001b[39m \u001b[38;5;241m1\u001b[39m:\n\u001b[0;32m    208\u001b[0m     \u001b[38;5;28mself\u001b[39m\u001b[38;5;241m.\u001b[39msleep(tries)\n\u001b[1;32m--> 210\u001b[0m \u001b[38;5;28;43mself\u001b[39;49m\u001b[38;5;241;43m.\u001b[39;49m\u001b[43mget_save_request_headers\u001b[49m\u001b[43m(\u001b[49m\u001b[43m)\u001b[49m\n\u001b[0;32m    211\u001b[0m \u001b[38;5;28mself\u001b[39m\u001b[38;5;241m.\u001b[39msaved_archive \u001b[38;5;241m=\u001b[39m \u001b[38;5;28mself\u001b[39m\u001b[38;5;241m.\u001b[39marchive_url_parser()\n\u001b[0;32m    213\u001b[0m \u001b[38;5;28;01mif\u001b[39;00m \u001b[38;5;28misinstance\u001b[39m(\u001b[38;5;28mself\u001b[39m\u001b[38;5;241m.\u001b[39msaved_archive, \u001b[38;5;28mstr\u001b[39m):\n",
      "File \u001b[1;32m~\\AppData\\Local\\Programs\\Python\\Python310\\lib\\site-packages\\waybackpy\\save_api.py:89\u001b[0m, in \u001b[0;36mWaybackMachineSaveAPI.get_save_request_headers\u001b[1;34m(self)\u001b[0m\n\u001b[0;32m     83\u001b[0m retries \u001b[38;5;241m=\u001b[39m Retry(\n\u001b[0;32m     84\u001b[0m     total\u001b[38;5;241m=\u001b[39m\u001b[38;5;28mself\u001b[39m\u001b[38;5;241m.\u001b[39mtotal_save_retries,\n\u001b[0;32m     85\u001b[0m     backoff_factor\u001b[38;5;241m=\u001b[39m\u001b[38;5;28mself\u001b[39m\u001b[38;5;241m.\u001b[39mbackoff_factor,\n\u001b[0;32m     86\u001b[0m     status_forcelist\u001b[38;5;241m=\u001b[39m\u001b[38;5;28mself\u001b[39m\u001b[38;5;241m.\u001b[39mstatus_forcelist,\n\u001b[0;32m     87\u001b[0m )\n\u001b[0;32m     88\u001b[0m session\u001b[38;5;241m.\u001b[39mmount(\u001b[38;5;124m\"\u001b[39m\u001b[38;5;124mhttps://\u001b[39m\u001b[38;5;124m\"\u001b[39m, HTTPAdapter(max_retries\u001b[38;5;241m=\u001b[39mretries))\n\u001b[1;32m---> 89\u001b[0m \u001b[38;5;28mself\u001b[39m\u001b[38;5;241m.\u001b[39mresponse \u001b[38;5;241m=\u001b[39m \u001b[43msession\u001b[49m\u001b[38;5;241;43m.\u001b[39;49m\u001b[43mget\u001b[49m\u001b[43m(\u001b[49m\u001b[38;5;28;43mself\u001b[39;49m\u001b[38;5;241;43m.\u001b[39;49m\u001b[43mrequest_url\u001b[49m\u001b[43m,\u001b[49m\u001b[43m \u001b[49m\u001b[43mheaders\u001b[49m\u001b[38;5;241;43m=\u001b[39;49m\u001b[38;5;28;43mself\u001b[39;49m\u001b[38;5;241;43m.\u001b[39;49m\u001b[43mrequest_headers\u001b[49m\u001b[43m)\u001b[49m\n\u001b[0;32m     90\u001b[0m \u001b[38;5;66;03m# requests.response.headers is requests.structures.CaseInsensitiveDict\u001b[39;00m\n\u001b[0;32m     91\u001b[0m \u001b[38;5;28mself\u001b[39m\u001b[38;5;241m.\u001b[39mheaders \u001b[38;5;241m=\u001b[39m \u001b[38;5;28mself\u001b[39m\u001b[38;5;241m.\u001b[39mresponse\u001b[38;5;241m.\u001b[39mheaders\n",
      "File \u001b[1;32m~\\AppData\\Local\\Programs\\Python\\Python310\\lib\\site-packages\\requests\\sessions.py:600\u001b[0m, in \u001b[0;36mSession.get\u001b[1;34m(self, url, **kwargs)\u001b[0m\n\u001b[0;32m    592\u001b[0m \u001b[38;5;124mr\u001b[39m\u001b[38;5;124;03m\"\"\"Sends a GET request. Returns :class:`Response` object.\u001b[39;00m\n\u001b[0;32m    593\u001b[0m \n\u001b[0;32m    594\u001b[0m \u001b[38;5;124;03m:param url: URL for the new :class:`Request` object.\u001b[39;00m\n\u001b[0;32m    595\u001b[0m \u001b[38;5;124;03m:param \\*\\*kwargs: Optional arguments that ``request`` takes.\u001b[39;00m\n\u001b[0;32m    596\u001b[0m \u001b[38;5;124;03m:rtype: requests.Response\u001b[39;00m\n\u001b[0;32m    597\u001b[0m \u001b[38;5;124;03m\"\"\"\u001b[39;00m\n\u001b[0;32m    599\u001b[0m kwargs\u001b[38;5;241m.\u001b[39msetdefault(\u001b[38;5;124m\"\u001b[39m\u001b[38;5;124mallow_redirects\u001b[39m\u001b[38;5;124m\"\u001b[39m, \u001b[38;5;28;01mTrue\u001b[39;00m)\n\u001b[1;32m--> 600\u001b[0m \u001b[38;5;28;01mreturn\u001b[39;00m \u001b[38;5;28mself\u001b[39m\u001b[38;5;241m.\u001b[39mrequest(\u001b[38;5;124m\"\u001b[39m\u001b[38;5;124mGET\u001b[39m\u001b[38;5;124m\"\u001b[39m, url, \u001b[38;5;241m*\u001b[39m\u001b[38;5;241m*\u001b[39mkwargs)\n",
      "File \u001b[1;32m~\\AppData\\Local\\Programs\\Python\\Python310\\lib\\site-packages\\requests\\sessions.py:587\u001b[0m, in \u001b[0;36mSession.request\u001b[1;34m(self, method, url, params, data, headers, cookies, files, auth, timeout, allow_redirects, proxies, hooks, stream, verify, cert, json)\u001b[0m\n\u001b[0;32m    582\u001b[0m send_kwargs \u001b[38;5;241m=\u001b[39m {\n\u001b[0;32m    583\u001b[0m     \u001b[38;5;124m\"\u001b[39m\u001b[38;5;124mtimeout\u001b[39m\u001b[38;5;124m\"\u001b[39m: timeout,\n\u001b[0;32m    584\u001b[0m     \u001b[38;5;124m\"\u001b[39m\u001b[38;5;124mallow_redirects\u001b[39m\u001b[38;5;124m\"\u001b[39m: allow_redirects,\n\u001b[0;32m    585\u001b[0m }\n\u001b[0;32m    586\u001b[0m send_kwargs\u001b[38;5;241m.\u001b[39mupdate(settings)\n\u001b[1;32m--> 587\u001b[0m resp \u001b[38;5;241m=\u001b[39m \u001b[38;5;28mself\u001b[39m\u001b[38;5;241m.\u001b[39msend(prep, \u001b[38;5;241m*\u001b[39m\u001b[38;5;241m*\u001b[39msend_kwargs)\n\u001b[0;32m    589\u001b[0m \u001b[38;5;28;01mreturn\u001b[39;00m resp\n",
      "File \u001b[1;32m~\\AppData\\Local\\Programs\\Python\\Python310\\lib\\site-packages\\requests\\sessions.py:701\u001b[0m, in \u001b[0;36mSession.send\u001b[1;34m(self, request, **kwargs)\u001b[0m\n\u001b[0;32m    698\u001b[0m start \u001b[38;5;241m=\u001b[39m preferred_clock()\n\u001b[0;32m    700\u001b[0m \u001b[38;5;66;03m# Send the request\u001b[39;00m\n\u001b[1;32m--> 701\u001b[0m r \u001b[38;5;241m=\u001b[39m adapter\u001b[38;5;241m.\u001b[39msend(request, \u001b[38;5;241m*\u001b[39m\u001b[38;5;241m*\u001b[39mkwargs)\n\u001b[0;32m    703\u001b[0m \u001b[38;5;66;03m# Total elapsed time of the request (approximately)\u001b[39;00m\n\u001b[0;32m    704\u001b[0m elapsed \u001b[38;5;241m=\u001b[39m preferred_clock() \u001b[38;5;241m-\u001b[39m start\n",
      "File \u001b[1;32m~\\AppData\\Local\\Programs\\Python\\Python310\\lib\\site-packages\\requests\\adapters.py:489\u001b[0m, in \u001b[0;36mHTTPAdapter.send\u001b[1;34m(self, request, stream, timeout, verify, cert, proxies)\u001b[0m\n\u001b[0;32m    487\u001b[0m \u001b[38;5;28;01mtry\u001b[39;00m:\n\u001b[0;32m    488\u001b[0m     \u001b[38;5;28;01mif\u001b[39;00m \u001b[38;5;129;01mnot\u001b[39;00m chunked:\n\u001b[1;32m--> 489\u001b[0m         resp \u001b[38;5;241m=\u001b[39m \u001b[43mconn\u001b[49m\u001b[38;5;241;43m.\u001b[39;49m\u001b[43murlopen\u001b[49m\u001b[43m(\u001b[49m\n\u001b[0;32m    490\u001b[0m \u001b[43m            \u001b[49m\u001b[43mmethod\u001b[49m\u001b[38;5;241;43m=\u001b[39;49m\u001b[43mrequest\u001b[49m\u001b[38;5;241;43m.\u001b[39;49m\u001b[43mmethod\u001b[49m\u001b[43m,\u001b[49m\n\u001b[0;32m    491\u001b[0m \u001b[43m            \u001b[49m\u001b[43murl\u001b[49m\u001b[38;5;241;43m=\u001b[39;49m\u001b[43murl\u001b[49m\u001b[43m,\u001b[49m\n\u001b[0;32m    492\u001b[0m \u001b[43m            \u001b[49m\u001b[43mbody\u001b[49m\u001b[38;5;241;43m=\u001b[39;49m\u001b[43mrequest\u001b[49m\u001b[38;5;241;43m.\u001b[39;49m\u001b[43mbody\u001b[49m\u001b[43m,\u001b[49m\n\u001b[0;32m    493\u001b[0m \u001b[43m            \u001b[49m\u001b[43mheaders\u001b[49m\u001b[38;5;241;43m=\u001b[39;49m\u001b[43mrequest\u001b[49m\u001b[38;5;241;43m.\u001b[39;49m\u001b[43mheaders\u001b[49m\u001b[43m,\u001b[49m\n\u001b[0;32m    494\u001b[0m \u001b[43m            \u001b[49m\u001b[43mredirect\u001b[49m\u001b[38;5;241;43m=\u001b[39;49m\u001b[38;5;28;43;01mFalse\u001b[39;49;00m\u001b[43m,\u001b[49m\n\u001b[0;32m    495\u001b[0m \u001b[43m            \u001b[49m\u001b[43massert_same_host\u001b[49m\u001b[38;5;241;43m=\u001b[39;49m\u001b[38;5;28;43;01mFalse\u001b[39;49;00m\u001b[43m,\u001b[49m\n\u001b[0;32m    496\u001b[0m \u001b[43m            \u001b[49m\u001b[43mpreload_content\u001b[49m\u001b[38;5;241;43m=\u001b[39;49m\u001b[38;5;28;43;01mFalse\u001b[39;49;00m\u001b[43m,\u001b[49m\n\u001b[0;32m    497\u001b[0m \u001b[43m            \u001b[49m\u001b[43mdecode_content\u001b[49m\u001b[38;5;241;43m=\u001b[39;49m\u001b[38;5;28;43;01mFalse\u001b[39;49;00m\u001b[43m,\u001b[49m\n\u001b[0;32m    498\u001b[0m \u001b[43m            \u001b[49m\u001b[43mretries\u001b[49m\u001b[38;5;241;43m=\u001b[39;49m\u001b[38;5;28;43mself\u001b[39;49m\u001b[38;5;241;43m.\u001b[39;49m\u001b[43mmax_retries\u001b[49m\u001b[43m,\u001b[49m\n\u001b[0;32m    499\u001b[0m \u001b[43m            \u001b[49m\u001b[43mtimeout\u001b[49m\u001b[38;5;241;43m=\u001b[39;49m\u001b[43mtimeout\u001b[49m\u001b[43m,\u001b[49m\n\u001b[0;32m    500\u001b[0m \u001b[43m        \u001b[49m\u001b[43m)\u001b[49m\n\u001b[0;32m    502\u001b[0m     \u001b[38;5;66;03m# Send the request.\u001b[39;00m\n\u001b[0;32m    503\u001b[0m     \u001b[38;5;28;01melse\u001b[39;00m:\n\u001b[0;32m    504\u001b[0m         \u001b[38;5;28;01mif\u001b[39;00m \u001b[38;5;28mhasattr\u001b[39m(conn, \u001b[38;5;124m\"\u001b[39m\u001b[38;5;124mproxy_pool\u001b[39m\u001b[38;5;124m\"\u001b[39m):\n",
      "File \u001b[1;32m~\\AppData\\Local\\Programs\\Python\\Python310\\lib\\site-packages\\urllib3\\connectionpool.py:703\u001b[0m, in \u001b[0;36mHTTPConnectionPool.urlopen\u001b[1;34m(self, method, url, body, headers, retries, redirect, assert_same_host, timeout, pool_timeout, release_conn, chunked, body_pos, **response_kw)\u001b[0m\n\u001b[0;32m    700\u001b[0m     \u001b[38;5;28mself\u001b[39m\u001b[38;5;241m.\u001b[39m_prepare_proxy(conn)\n\u001b[0;32m    702\u001b[0m \u001b[38;5;66;03m# Make the request on the httplib connection object.\u001b[39;00m\n\u001b[1;32m--> 703\u001b[0m httplib_response \u001b[38;5;241m=\u001b[39m \u001b[38;5;28;43mself\u001b[39;49m\u001b[38;5;241;43m.\u001b[39;49m\u001b[43m_make_request\u001b[49m\u001b[43m(\u001b[49m\n\u001b[0;32m    704\u001b[0m \u001b[43m    \u001b[49m\u001b[43mconn\u001b[49m\u001b[43m,\u001b[49m\n\u001b[0;32m    705\u001b[0m \u001b[43m    \u001b[49m\u001b[43mmethod\u001b[49m\u001b[43m,\u001b[49m\n\u001b[0;32m    706\u001b[0m \u001b[43m    \u001b[49m\u001b[43murl\u001b[49m\u001b[43m,\u001b[49m\n\u001b[0;32m    707\u001b[0m \u001b[43m    \u001b[49m\u001b[43mtimeout\u001b[49m\u001b[38;5;241;43m=\u001b[39;49m\u001b[43mtimeout_obj\u001b[49m\u001b[43m,\u001b[49m\n\u001b[0;32m    708\u001b[0m \u001b[43m    \u001b[49m\u001b[43mbody\u001b[49m\u001b[38;5;241;43m=\u001b[39;49m\u001b[43mbody\u001b[49m\u001b[43m,\u001b[49m\n\u001b[0;32m    709\u001b[0m \u001b[43m    \u001b[49m\u001b[43mheaders\u001b[49m\u001b[38;5;241;43m=\u001b[39;49m\u001b[43mheaders\u001b[49m\u001b[43m,\u001b[49m\n\u001b[0;32m    710\u001b[0m \u001b[43m    \u001b[49m\u001b[43mchunked\u001b[49m\u001b[38;5;241;43m=\u001b[39;49m\u001b[43mchunked\u001b[49m\u001b[43m,\u001b[49m\n\u001b[0;32m    711\u001b[0m \u001b[43m\u001b[49m\u001b[43m)\u001b[49m\n\u001b[0;32m    713\u001b[0m \u001b[38;5;66;03m# If we're going to release the connection in ``finally:``, then\u001b[39;00m\n\u001b[0;32m    714\u001b[0m \u001b[38;5;66;03m# the response doesn't need to know about the connection. Otherwise\u001b[39;00m\n\u001b[0;32m    715\u001b[0m \u001b[38;5;66;03m# it will also try to release it and we'll have a double-release\u001b[39;00m\n\u001b[0;32m    716\u001b[0m \u001b[38;5;66;03m# mess.\u001b[39;00m\n\u001b[0;32m    717\u001b[0m response_conn \u001b[38;5;241m=\u001b[39m conn \u001b[38;5;28;01mif\u001b[39;00m \u001b[38;5;129;01mnot\u001b[39;00m release_conn \u001b[38;5;28;01melse\u001b[39;00m \u001b[38;5;28;01mNone\u001b[39;00m\n",
      "File \u001b[1;32m~\\AppData\\Local\\Programs\\Python\\Python310\\lib\\site-packages\\urllib3\\connectionpool.py:449\u001b[0m, in \u001b[0;36mHTTPConnectionPool._make_request\u001b[1;34m(self, conn, method, url, timeout, chunked, **httplib_request_kw)\u001b[0m\n\u001b[0;32m    444\u001b[0m             httplib_response \u001b[38;5;241m=\u001b[39m conn\u001b[38;5;241m.\u001b[39mgetresponse()\n\u001b[0;32m    445\u001b[0m         \u001b[38;5;28;01mexcept\u001b[39;00m \u001b[38;5;167;01mBaseException\u001b[39;00m \u001b[38;5;28;01mas\u001b[39;00m e:\n\u001b[0;32m    446\u001b[0m             \u001b[38;5;66;03m# Remove the TypeError from the exception chain in\u001b[39;00m\n\u001b[0;32m    447\u001b[0m             \u001b[38;5;66;03m# Python 3 (including for exceptions like SystemExit).\u001b[39;00m\n\u001b[0;32m    448\u001b[0m             \u001b[38;5;66;03m# Otherwise it looks like a bug in the code.\u001b[39;00m\n\u001b[1;32m--> 449\u001b[0m             \u001b[43msix\u001b[49m\u001b[38;5;241;43m.\u001b[39;49m\u001b[43mraise_from\u001b[49m\u001b[43m(\u001b[49m\u001b[43me\u001b[49m\u001b[43m,\u001b[49m\u001b[43m \u001b[49m\u001b[38;5;28;43;01mNone\u001b[39;49;00m\u001b[43m)\u001b[49m\n\u001b[0;32m    450\u001b[0m \u001b[38;5;28;01mexcept\u001b[39;00m (SocketTimeout, BaseSSLError, SocketError) \u001b[38;5;28;01mas\u001b[39;00m e:\n\u001b[0;32m    451\u001b[0m     \u001b[38;5;28mself\u001b[39m\u001b[38;5;241m.\u001b[39m_raise_timeout(err\u001b[38;5;241m=\u001b[39me, url\u001b[38;5;241m=\u001b[39murl, timeout_value\u001b[38;5;241m=\u001b[39mread_timeout)\n",
      "File \u001b[1;32m<string>:3\u001b[0m, in \u001b[0;36mraise_from\u001b[1;34m(value, from_value)\u001b[0m\n",
      "File \u001b[1;32m~\\AppData\\Local\\Programs\\Python\\Python310\\lib\\site-packages\\urllib3\\connectionpool.py:444\u001b[0m, in \u001b[0;36mHTTPConnectionPool._make_request\u001b[1;34m(self, conn, method, url, timeout, chunked, **httplib_request_kw)\u001b[0m\n\u001b[0;32m    441\u001b[0m \u001b[38;5;28;01mexcept\u001b[39;00m \u001b[38;5;167;01mTypeError\u001b[39;00m:\n\u001b[0;32m    442\u001b[0m     \u001b[38;5;66;03m# Python 3\u001b[39;00m\n\u001b[0;32m    443\u001b[0m     \u001b[38;5;28;01mtry\u001b[39;00m:\n\u001b[1;32m--> 444\u001b[0m         httplib_response \u001b[38;5;241m=\u001b[39m \u001b[43mconn\u001b[49m\u001b[38;5;241;43m.\u001b[39;49m\u001b[43mgetresponse\u001b[49m\u001b[43m(\u001b[49m\u001b[43m)\u001b[49m\n\u001b[0;32m    445\u001b[0m     \u001b[38;5;28;01mexcept\u001b[39;00m \u001b[38;5;167;01mBaseException\u001b[39;00m \u001b[38;5;28;01mas\u001b[39;00m e:\n\u001b[0;32m    446\u001b[0m         \u001b[38;5;66;03m# Remove the TypeError from the exception chain in\u001b[39;00m\n\u001b[0;32m    447\u001b[0m         \u001b[38;5;66;03m# Python 3 (including for exceptions like SystemExit).\u001b[39;00m\n\u001b[0;32m    448\u001b[0m         \u001b[38;5;66;03m# Otherwise it looks like a bug in the code.\u001b[39;00m\n\u001b[0;32m    449\u001b[0m         six\u001b[38;5;241m.\u001b[39mraise_from(e, \u001b[38;5;28;01mNone\u001b[39;00m)\n",
      "File \u001b[1;32m~\\AppData\\Local\\Programs\\Python\\Python310\\lib\\http\\client.py:1374\u001b[0m, in \u001b[0;36mHTTPConnection.getresponse\u001b[1;34m(self)\u001b[0m\n\u001b[0;32m   1372\u001b[0m \u001b[38;5;28;01mtry\u001b[39;00m:\n\u001b[0;32m   1373\u001b[0m     \u001b[38;5;28;01mtry\u001b[39;00m:\n\u001b[1;32m-> 1374\u001b[0m         \u001b[43mresponse\u001b[49m\u001b[38;5;241;43m.\u001b[39;49m\u001b[43mbegin\u001b[49m\u001b[43m(\u001b[49m\u001b[43m)\u001b[49m\n\u001b[0;32m   1375\u001b[0m     \u001b[38;5;28;01mexcept\u001b[39;00m \u001b[38;5;167;01mConnectionError\u001b[39;00m:\n\u001b[0;32m   1376\u001b[0m         \u001b[38;5;28mself\u001b[39m\u001b[38;5;241m.\u001b[39mclose()\n",
      "File \u001b[1;32m~\\AppData\\Local\\Programs\\Python\\Python310\\lib\\http\\client.py:318\u001b[0m, in \u001b[0;36mHTTPResponse.begin\u001b[1;34m(self)\u001b[0m\n\u001b[0;32m    316\u001b[0m \u001b[38;5;66;03m# read until we get a non-100 response\u001b[39;00m\n\u001b[0;32m    317\u001b[0m \u001b[38;5;28;01mwhile\u001b[39;00m \u001b[38;5;28;01mTrue\u001b[39;00m:\n\u001b[1;32m--> 318\u001b[0m     version, status, reason \u001b[38;5;241m=\u001b[39m \u001b[38;5;28;43mself\u001b[39;49m\u001b[38;5;241;43m.\u001b[39;49m\u001b[43m_read_status\u001b[49m\u001b[43m(\u001b[49m\u001b[43m)\u001b[49m\n\u001b[0;32m    319\u001b[0m     \u001b[38;5;28;01mif\u001b[39;00m status \u001b[38;5;241m!=\u001b[39m CONTINUE:\n\u001b[0;32m    320\u001b[0m         \u001b[38;5;28;01mbreak\u001b[39;00m\n",
      "File \u001b[1;32m~\\AppData\\Local\\Programs\\Python\\Python310\\lib\\http\\client.py:279\u001b[0m, in \u001b[0;36mHTTPResponse._read_status\u001b[1;34m(self)\u001b[0m\n\u001b[0;32m    278\u001b[0m \u001b[38;5;28;01mdef\u001b[39;00m \u001b[38;5;21m_read_status\u001b[39m(\u001b[38;5;28mself\u001b[39m):\n\u001b[1;32m--> 279\u001b[0m     line \u001b[38;5;241m=\u001b[39m \u001b[38;5;28mstr\u001b[39m(\u001b[38;5;28;43mself\u001b[39;49m\u001b[38;5;241;43m.\u001b[39;49m\u001b[43mfp\u001b[49m\u001b[38;5;241;43m.\u001b[39;49m\u001b[43mreadline\u001b[49m\u001b[43m(\u001b[49m\u001b[43m_MAXLINE\u001b[49m\u001b[43m \u001b[49m\u001b[38;5;241;43m+\u001b[39;49m\u001b[43m \u001b[49m\u001b[38;5;241;43m1\u001b[39;49m\u001b[43m)\u001b[49m, \u001b[38;5;124m\"\u001b[39m\u001b[38;5;124miso-8859-1\u001b[39m\u001b[38;5;124m\"\u001b[39m)\n\u001b[0;32m    280\u001b[0m     \u001b[38;5;28;01mif\u001b[39;00m \u001b[38;5;28mlen\u001b[39m(line) \u001b[38;5;241m>\u001b[39m _MAXLINE:\n\u001b[0;32m    281\u001b[0m         \u001b[38;5;28;01mraise\u001b[39;00m LineTooLong(\u001b[38;5;124m\"\u001b[39m\u001b[38;5;124mstatus line\u001b[39m\u001b[38;5;124m\"\u001b[39m)\n",
      "File \u001b[1;32m~\\AppData\\Local\\Programs\\Python\\Python310\\lib\\socket.py:705\u001b[0m, in \u001b[0;36mSocketIO.readinto\u001b[1;34m(self, b)\u001b[0m\n\u001b[0;32m    703\u001b[0m \u001b[38;5;28;01mwhile\u001b[39;00m \u001b[38;5;28;01mTrue\u001b[39;00m:\n\u001b[0;32m    704\u001b[0m     \u001b[38;5;28;01mtry\u001b[39;00m:\n\u001b[1;32m--> 705\u001b[0m         \u001b[38;5;28;01mreturn\u001b[39;00m \u001b[38;5;28;43mself\u001b[39;49m\u001b[38;5;241;43m.\u001b[39;49m\u001b[43m_sock\u001b[49m\u001b[38;5;241;43m.\u001b[39;49m\u001b[43mrecv_into\u001b[49m\u001b[43m(\u001b[49m\u001b[43mb\u001b[49m\u001b[43m)\u001b[49m\n\u001b[0;32m    706\u001b[0m     \u001b[38;5;28;01mexcept\u001b[39;00m timeout:\n\u001b[0;32m    707\u001b[0m         \u001b[38;5;28mself\u001b[39m\u001b[38;5;241m.\u001b[39m_timeout_occurred \u001b[38;5;241m=\u001b[39m \u001b[38;5;28;01mTrue\u001b[39;00m\n",
      "File \u001b[1;32m~\\AppData\\Local\\Programs\\Python\\Python310\\lib\\ssl.py:1274\u001b[0m, in \u001b[0;36mSSLSocket.recv_into\u001b[1;34m(self, buffer, nbytes, flags)\u001b[0m\n\u001b[0;32m   1270\u001b[0m     \u001b[38;5;28;01mif\u001b[39;00m flags \u001b[38;5;241m!=\u001b[39m \u001b[38;5;241m0\u001b[39m:\n\u001b[0;32m   1271\u001b[0m         \u001b[38;5;28;01mraise\u001b[39;00m \u001b[38;5;167;01mValueError\u001b[39;00m(\n\u001b[0;32m   1272\u001b[0m           \u001b[38;5;124m\"\u001b[39m\u001b[38;5;124mnon-zero flags not allowed in calls to recv_into() on \u001b[39m\u001b[38;5;132;01m%s\u001b[39;00m\u001b[38;5;124m\"\u001b[39m \u001b[38;5;241m%\u001b[39m\n\u001b[0;32m   1273\u001b[0m           \u001b[38;5;28mself\u001b[39m\u001b[38;5;241m.\u001b[39m\u001b[38;5;18m__class__\u001b[39m)\n\u001b[1;32m-> 1274\u001b[0m     \u001b[38;5;28;01mreturn\u001b[39;00m \u001b[38;5;28;43mself\u001b[39;49m\u001b[38;5;241;43m.\u001b[39;49m\u001b[43mread\u001b[49m\u001b[43m(\u001b[49m\u001b[43mnbytes\u001b[49m\u001b[43m,\u001b[49m\u001b[43m \u001b[49m\u001b[43mbuffer\u001b[49m\u001b[43m)\u001b[49m\n\u001b[0;32m   1275\u001b[0m \u001b[38;5;28;01melse\u001b[39;00m:\n\u001b[0;32m   1276\u001b[0m     \u001b[38;5;28;01mreturn\u001b[39;00m \u001b[38;5;28msuper\u001b[39m()\u001b[38;5;241m.\u001b[39mrecv_into(buffer, nbytes, flags)\n",
      "File \u001b[1;32m~\\AppData\\Local\\Programs\\Python\\Python310\\lib\\ssl.py:1130\u001b[0m, in \u001b[0;36mSSLSocket.read\u001b[1;34m(self, len, buffer)\u001b[0m\n\u001b[0;32m   1128\u001b[0m \u001b[38;5;28;01mtry\u001b[39;00m:\n\u001b[0;32m   1129\u001b[0m     \u001b[38;5;28;01mif\u001b[39;00m buffer \u001b[38;5;129;01mis\u001b[39;00m \u001b[38;5;129;01mnot\u001b[39;00m \u001b[38;5;28;01mNone\u001b[39;00m:\n\u001b[1;32m-> 1130\u001b[0m         \u001b[38;5;28;01mreturn\u001b[39;00m \u001b[38;5;28;43mself\u001b[39;49m\u001b[38;5;241;43m.\u001b[39;49m\u001b[43m_sslobj\u001b[49m\u001b[38;5;241;43m.\u001b[39;49m\u001b[43mread\u001b[49m\u001b[43m(\u001b[49m\u001b[38;5;28;43mlen\u001b[39;49m\u001b[43m,\u001b[49m\u001b[43m \u001b[49m\u001b[43mbuffer\u001b[49m\u001b[43m)\u001b[49m\n\u001b[0;32m   1131\u001b[0m     \u001b[38;5;28;01melse\u001b[39;00m:\n\u001b[0;32m   1132\u001b[0m         \u001b[38;5;28;01mreturn\u001b[39;00m \u001b[38;5;28mself\u001b[39m\u001b[38;5;241m.\u001b[39m_sslobj\u001b[38;5;241m.\u001b[39mread(\u001b[38;5;28mlen\u001b[39m)\n",
      "\u001b[1;31mKeyboardInterrupt\u001b[0m: "
     ]
    }
   ],
   "source": [
    "dictory_of_urls = go_over_websites(first_three_websites)"
   ]
  },
  {
   "cell_type": "code",
   "execution_count": 110,
   "metadata": {},
   "outputs": [
    {
     "name": "stdout",
     "output_type": "stream",
     "text": [
      "{'free.fr': [('https://web.archive.org/web/20170616092025/http://www2004.free.fr/', (2020, 7)), ('https://web.archive.org/web/20170616092025/http://www2004.free.fr/', (2020, 8)), ('https://web.archive.org/web/20170616092025/http://www2004.free.fr/', (2020, 9)), ('https://web.archive.org/web/20170616092025/http://www2004.free.fr/', (2020, 10)), ('https://web.archive.org/web/20170616092025/http://www2004.free.fr/', (2020, 11)), ('https://web.archive.org/web/20170616092025/http://www2004.free.fr/', (2020, 12))], 'google.fr': [('https://web.archive.org/web/20200713114917/http://www.google.fr/', (2020, 7)), ('https://web.archive.org/web/20200813114034/http://www.google.fr/', (2020, 8)), ('https://web.archive.org/web/20200913114149/http://www.google.fr/', (2020, 9)), ('https://web.archive.org/web/20201013115843/https://www.google.fr/', (2020, 10)), ('https://web.archive.org/web/20201113102410/https://www.google.fr/', (2020, 11)), ('https://web.archive.org/web/20201213115501/http://www.google.fr/', (2020, 12))], 'amazon.fr': [('https://web.archive.org/web/20200713132044/https://www.amazon.fr/', (2020, 7)), ('https://web.archive.org/web/20200813111707/https://www.amazon.fr/', (2020, 8)), ('https://web.archive.org/web/20200913105915/https://www.amazon.fr/', (2020, 9)), ('https://web.archive.org/web/20201013112923/https://www.amazon.fr/', (2020, 10)), ('https://web.archive.org/web/20201113121949/https://www.amazon.fr/', (2020, 11)), ('https://web.archive.org/web/20201213132952/https://www.amazon.fr/', (2020, 12))]}\n"
     ]
    }
   ],
   "source": [
    "print(dictory_of_urls)"
   ]
  },
  {
   "cell_type": "code",
   "execution_count": 61,
   "metadata": {},
   "outputs": [],
   "source": [
    "with open(\"{}_all_urls.txt\".format(\"Urls\"), 'w') as outfile:\n",
    "                json.dump(dictory_of_urls, outfile, indent = 4)"
   ]
  },
  {
   "cell_type": "code",
   "execution_count": 79,
   "metadata": {},
   "outputs": [
    {
     "name": "stdout",
     "output_type": "stream",
     "text": [
      "free.fr (2020, 7)\n",
      "Failed Message: The element reference of <div class=\"jss29 jss37 jss30\"> is stale; either the element is no longer attached to the DOM, it is not in the current frame context, or the document has been refreshed\n",
      "Stacktrace:\n",
      "RemoteError@chrome://remote/content/shared/RemoteError.jsm:12:1\n",
      "WebDriverError@chrome://remote/content/shared/webdriver/Errors.jsm:192:5\n",
      "StaleElementReferenceError@chrome://remote/content/shared/webdriver/Errors.jsm:473:5\n",
      "element.resolveElement@chrome://remote/content/marionette/element.js:690:11\n",
      "evaluate.fromJSON@chrome://remote/content/marionette/evaluate.js:262:31\n",
      "evaluate.fromJSON@chrome://remote/content/marionette/evaluate.js:270:29\n",
      "receiveMessage@chrome://remote/content/marionette/actors/MarionetteCommandsChild.jsm:80:34\n",
      "\n",
      "{'successful': False, 'error': 'click_error'}\n",
      "0 3\n",
      "free.fr (2020, 8)\n",
      "Failed Message: The element reference of <div class=\"jss30 jss38 jss31\"> is stale; either the element is no longer attached to the DOM, it is not in the current frame context, or the document has been refreshed\n",
      "Stacktrace:\n",
      "RemoteError@chrome://remote/content/shared/RemoteError.jsm:12:1\n",
      "WebDriverError@chrome://remote/content/shared/webdriver/Errors.jsm:192:5\n",
      "StaleElementReferenceError@chrome://remote/content/shared/webdriver/Errors.jsm:473:5\n",
      "element.resolveElement@chrome://remote/content/marionette/element.js:690:11\n",
      "evaluate.fromJSON@chrome://remote/content/marionette/evaluate.js:262:31\n",
      "evaluate.fromJSON@chrome://remote/content/marionette/evaluate.js:270:29\n",
      "receiveMessage@chrome://remote/content/marionette/actors/MarionetteCommandsChild.jsm:80:34\n",
      "\n",
      "{'successful': False, 'error': 'click_error'}\n",
      "1 2\n",
      "free.fr (2020, 9)\n",
      "Failed Message: The element reference of <div class=\"jss30 jss38 jss31\"> is stale; either the element is no longer attached to the DOM, it is not in the current frame context, or the document has been refreshed\n",
      "Stacktrace:\n",
      "RemoteError@chrome://remote/content/shared/RemoteError.jsm:12:1\n",
      "WebDriverError@chrome://remote/content/shared/webdriver/Errors.jsm:192:5\n",
      "StaleElementReferenceError@chrome://remote/content/shared/webdriver/Errors.jsm:473:5\n",
      "element.resolveElement@chrome://remote/content/marionette/element.js:690:11\n",
      "evaluate.fromJSON@chrome://remote/content/marionette/evaluate.js:262:31\n",
      "evaluate.fromJSON@chrome://remote/content/marionette/evaluate.js:270:29\n",
      "receiveMessage@chrome://remote/content/marionette/actors/MarionetteCommandsChild.jsm:80:34\n",
      "\n",
      "{'successful': False, 'error': 'click_error'}\n",
      "1 4\n",
      "free.fr (2020, 10)\n",
      "Failed Message: The element reference of <div class=\"shifted bordered\"> is stale; either the element is no longer attached to the DOM, it is not in the current frame context, or the document has been refreshed\n",
      "Stacktrace:\n",
      "RemoteError@chrome://remote/content/shared/RemoteError.jsm:12:1\n",
      "WebDriverError@chrome://remote/content/shared/webdriver/Errors.jsm:192:5\n",
      "StaleElementReferenceError@chrome://remote/content/shared/webdriver/Errors.jsm:473:5\n",
      "element.resolveElement@chrome://remote/content/marionette/element.js:690:11\n",
      "evaluate.fromJSON@chrome://remote/content/marionette/evaluate.js:262:31\n",
      "evaluate.fromJSON@chrome://remote/content/marionette/evaluate.js:270:29\n",
      "receiveMessage@chrome://remote/content/marionette/actors/MarionetteCommandsChild.jsm:80:34\n",
      "\n",
      "{'successful': False, 'error': 'click_error'}\n",
      "1 3\n",
      "free.fr (2020, 11)\n",
      "{'successful': False, 'error': 'no_accept_button'}\n",
      "1 3\n",
      "free.fr (2020, 12)\n",
      "Failed Message: The element reference of <div class=\"jss51 jss59 jss53\"> is stale; either the element is no longer attached to the DOM, it is not in the current frame context, or the document has been refreshed\n",
      "Stacktrace:\n",
      "RemoteError@chrome://remote/content/shared/RemoteError.jsm:12:1\n",
      "WebDriverError@chrome://remote/content/shared/webdriver/Errors.jsm:192:5\n",
      "StaleElementReferenceError@chrome://remote/content/shared/webdriver/Errors.jsm:473:5\n",
      "element.resolveElement@chrome://remote/content/marionette/element.js:690:11\n",
      "evaluate.fromJSON@chrome://remote/content/marionette/evaluate.js:262:31\n",
      "evaluate.fromJSON@chrome://remote/content/marionette/evaluate.js:270:29\n",
      "receiveMessage@chrome://remote/content/marionette/actors/MarionetteCommandsChild.jsm:80:34\n",
      "\n",
      "{'successful': False, 'error': 'click_error'}\n",
      "1 4\n",
      "google.fr (2020, 7)\n",
      "{'successful': False, 'error': 'no_accept_button'}\n",
      "2 2\n",
      "google.fr (2020, 8)\n",
      "{'successful': False, 'error': 'no_accept_button'}\n",
      "1 1\n",
      "google.fr (2020, 9)\n",
      "{'successful': False, 'error': 'no_accept_button'}\n",
      "1 1\n",
      "google.fr (2020, 10)\n",
      "{'successful': False, 'error': 'no_accept_button'}\n",
      "1 1\n",
      "google.fr (2020, 11)\n",
      "{'successful': False, 'error': 'no_accept_button'}\n",
      "1 1\n",
      "google.fr (2020, 12)\n",
      "{'successful': False, 'error': 'no_accept_button'}\n",
      "1 1\n",
      "amazon.fr (2020, 7)\n",
      "{'successful': False, 'error': 'no_accept_button'}\n",
      "1 1\n",
      "amazon.fr (2020, 8)\n",
      "{'successful': False, 'error': 'no_accept_button'}\n",
      "1 1\n",
      "amazon.fr (2020, 9)\n",
      "Accepter les cookies\n",
      "and here\n",
      "{'successful': True, 'error': 'none'}\n",
      "1 1\n",
      "amazon.fr (2020, 10)\n",
      "Accepter les cookies\n",
      "and here\n",
      "{'successful': True, 'error': 'none'}\n",
      "1 1\n",
      "amazon.fr (2020, 11)\n",
      "{'successful': False, 'error': 'no_accept_button'}\n",
      "2 2\n",
      "amazon.fr (2020, 12)\n",
      "Accepter les cookies\n",
      "and here\n",
      "{'successful': True, 'error': 'none'}\n",
      "2 2\n"
     ]
    }
   ],
   "source": [
    "#url = 'https://www.youtube.com'\n",
    "options = FirefoxOptions()\n",
    "#options.headless = True\n",
    "service = FirefoxService(r'C:\\Program Files\\Mozilla Firefox\\geckodriver.exe')\n",
    "driver = webdriver.Firefox(service=service, options=options)\n",
    "\n",
    "def main():\n",
    "    \n",
    "    # Collect cookies for every month, write to two JSON files: before click and after ACCEPT ALL,\n",
    "    # and return the number of cookies.\n",
    "    for website in loist:\n",
    "        \n",
    "        website_name = website\n",
    "        \n",
    "        for url in loist[website]:\n",
    "            \n",
    "            print(website, url[1])\n",
    "            \n",
    "            # store cookies before and after click\n",
    "            cookies_before, cookies_after = cookies_before_and_after_accept(driver, url[0])\n",
    "            \n",
    "            print(len(cookies_before), len(cookies_after))\n",
    "            \n",
    "            # create two JSON files\n",
    "            with open(\"{}_cookies_no_click.json\".format(website_name), 'a') as outfile:\n",
    "                json.dump((url[1], cookies_before), outfile, indent = 4)\n",
    "            with open(\"{}_cookies_after_click.json\".format(website_name), 'a') as outfile:\n",
    "                json.dump((url[1], cookies_after), outfile, indent = 4)\n",
    "\n",
    "main()\n",
    "driver.quit()"
   ]
  },
  {
   "cell_type": "code",
   "execution_count": 147,
   "metadata": {},
   "outputs": [],
   "source": [
    "import glob, os, os.path\n",
    "\n",
    "mydir = r\"V:\\Uni\\Thesis\\Code\\Thesis\"\n",
    "filelist = glob.glob(os.path.join(mydir, \"*.JSON\"))\n",
    "for f in filelist:\n",
    "    os.remove(f)"
   ]
  },
  {
   "cell_type": "code",
   "execution_count": 126,
   "metadata": {
    "datalore": {
     "hide_input_from_viewers": false,
     "hide_output_from_viewers": false,
     "node_id": "D82mu3zgGNr9g0RhrpkS8u",
     "report_properties": {},
     "type": "CODE"
    }
   },
   "outputs": [
    {
     "name": "stdout",
     "output_type": "stream",
     "text": [
      "free.fr\n",
      "(2020, 7)\n",
      "(2020, 8)\n",
      "(2020, 9)\n",
      "(2020, 10)\n",
      "(2020, 11)\n",
      "(2020, 12)\n",
      "google.fr\n",
      "(2020, 7)\n",
      "(2020, 8)\n",
      "(2020, 9)\n",
      "(2020, 10)\n",
      "(2020, 11)\n",
      "(2020, 12)\n",
      "amazon.fr\n",
      "(2020, 7)\n",
      "(2020, 8)\n",
      "(2020, 9)\n",
      "(2020, 10)\n",
      "(2020, 11)\n",
      "(2020, 12)\n"
     ]
    }
   ],
   "source": [
    " for website in dictory_of_urls:\n",
    "        website_name = website\n",
    "        print(website)\n",
    "        for url in dictory_of_urls[website]:\n",
    "            print(url[1])"
   ]
  },
  {
   "cell_type": "code",
   "execution_count": 142,
   "metadata": {},
   "outputs": [
    {
     "data": {
      "text/plain": [
       "{'free.fr': [('https://web.archive.org/web/20170616092025/http://www2004.free.fr/',\n",
       "   (2020, 7)),\n",
       "  ('https://web.archive.org/web/20170616092025/http://www2004.free.fr/',\n",
       "   (2020, 8)),\n",
       "  ('https://web.archive.org/web/20170616092025/http://www2004.free.fr/',\n",
       "   (2020, 9)),\n",
       "  ('https://web.archive.org/web/20170616092025/http://www2004.free.fr/',\n",
       "   (2020, 10)),\n",
       "  ('https://web.archive.org/web/20170616092025/http://www2004.free.fr/',\n",
       "   (2020, 11)),\n",
       "  ('https://web.archive.org/web/20170616092025/http://www2004.free.fr/',\n",
       "   (2020, 12))],\n",
       " 'google.fr': [('https://web.archive.org/web/20200712202242/https://www.google.fr/',\n",
       "   (2020, 7)),\n",
       "  ('https://web.archive.org/web/20200812202822/http://www.google.fr/',\n",
       "   (2020, 8)),\n",
       "  ('https://web.archive.org/web/20200912194125/http://www.google.fr/',\n",
       "   (2020, 9)),\n",
       "  ('https://web.archive.org/web/20201012205848/http://www.google.fr/',\n",
       "   (2020, 10)),\n",
       "  ('https://web.archive.org/web/20201112214452/https://www.google.fr/',\n",
       "   (2020, 11)),\n",
       "  ('https://web.archive.org/web/20201212195205/https://www.google.fr/',\n",
       "   (2020, 12))],\n",
       " 'amazon.fr': [('https://web.archive.org/web/20200712220603/https://www.amazon.fr/',\n",
       "   (2020, 7)),\n",
       "  ('https://web.archive.org/web/20200812191533/https://www.amazon.fr/',\n",
       "   (2020, 8)),\n",
       "  ('https://web.archive.org/web/20200912231157/https://www.amazon.fr/',\n",
       "   (2020, 9)),\n",
       "  ('https://web.archive.org/web/20201012203225/https://www.amazon.fr/',\n",
       "   (2020, 10)),\n",
       "  ('https://web.archive.org/web/20201113044348/https://www.amazon.fr/',\n",
       "   (2020, 11)),\n",
       "  ('https://web.archive.org/web/20201212194625/https://www.amazon.fr/',\n",
       "   (2020, 12))]}"
      ]
     },
     "execution_count": 142,
     "metadata": {},
     "output_type": "execute_result"
    }
   ],
   "source": [
    "dictorio = {}\n",
    "\n",
    "dictory_of_urls"
   ]
  },
  {
   "cell_type": "code",
   "execution_count": 104,
   "metadata": {},
   "outputs": [
    {
     "name": "stdout",
     "output_type": "stream",
     "text": [
      "{'free.fr': ['https://web.archive.org/web/20170616092025/http://www2004.free.fr/', 'https://web.archive.org/web/20170616092025/http://www2004.free.fr/', 'https://web.archive.org/web/20170616092025/http://www2004.free.fr/', 'https://web.archive.org/web/20170616092025/http://www2004.free.fr/', 'https://web.archive.org/web/20170616092025/http://www2004.free.fr/', 'https://web.archive.org/web/20170616092025/http://www2004.free.fr/'], 'google.fr': ['https://web.archive.org/web/20200712193240/http://www.google.fr/', 'https://web.archive.org/web/20200812202822/http://www.google.fr/', 'https://web.archive.org/web/20200912194125/http://www.google.fr/', 'https://web.archive.org/web/20201012193024/http://www.google.fr', 'https://web.archive.org/web/20201112214452/https://www.google.fr/', 'https://web.archive.org/web/20201212195205/https://www.google.fr/'], 'amazon.fr': ['https://web.archive.org/web/20200712220603/https://www.amazon.fr/', 'https://web.archive.org/web/20200812191533/https://www.amazon.fr/', 'https://web.archive.org/web/20200912173925/https://www.amazon.fr/', 'https://web.archive.org/web/20201012194927/https://www.amazon.fr/', 'https://web.archive.org/web/20201113044348/https://www.amazon.fr/', 'https://web.archive.org/web/20201212194625/https://www.amazon.fr/']}\n"
     ]
    }
   ],
   "source": [
    "print(dictory_of_urls)"
   ]
  },
  {
   "cell_type": "code",
   "execution_count": null,
   "metadata": {},
   "outputs": [],
   "source": []
  }
 ],
 "metadata": {
  "datalore": {
   "base_environment": "default",
   "computation_mode": "JUPYTER",
   "package_manager": "pip",
   "packages": [
    {
     "name": "selenium",
     "source": "PIP"
    },
    {
     "name": "waybackpy",
     "source": "PIP"
    },
    {
     "name": "tranco",
     "source": "PIP",
     "version": "0.6"
    },
    {
     "name": "webdriver-manager",
     "source": "PIP"
    }
   ],
   "version": 1
  },
  "kernelspec": {
   "display_name": "Python 3 (ipykernel)",
   "language": "python",
   "name": "python3"
  },
  "language_info": {
   "codemirror_mode": {
    "name": "ipython",
    "version": 3
   },
   "file_extension": ".py",
   "mimetype": "text/x-python",
   "name": "python",
   "nbconvert_exporter": "python",
   "pygments_lexer": "ipython3",
   "version": "3.10.8"
  }
 },
 "nbformat": 4,
 "nbformat_minor": 4
}
