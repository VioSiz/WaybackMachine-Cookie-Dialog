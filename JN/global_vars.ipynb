{
 "cells": [
  {
   "cell_type": "code",
   "execution_count": 1,
   "id": "037fac42",
   "metadata": {},
   "outputs": [],
   "source": [
    "model_savedir_buttons = 'V:/Uni/Thesis/Code/Thesis/buttons_model'\n",
    "model_savedir_dialog = 'V:/Uni/Thesis/Code/Thesis/dialogue_model'\n",
    "classification_buttons_filename = 'V:/Uni/Thesis/Code/Thesis/Classification file for buttons.csv'\n",
    "classification_dialog_filename = 'V:/Uni/Thesis/Code/Thesis/Classification file for cookie dialog.csv'"
   ]
  }
 ],
 "metadata": {
  "kernelspec": {
   "display_name": "Python 3 (ipykernel)",
   "language": "python",
   "name": "python3"
  },
  "language_info": {
   "codemirror_mode": {
    "name": "ipython",
    "version": 3
   },
   "file_extension": ".py",
   "mimetype": "text/x-python",
   "name": "python",
   "nbconvert_exporter": "python",
   "pygments_lexer": "ipython3",
   "version": "3.10.8"
  }
 },
 "nbformat": 4,
 "nbformat_minor": 5
}
