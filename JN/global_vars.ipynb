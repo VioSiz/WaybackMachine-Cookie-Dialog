{
 "cells": [
  {
   "cell_type": "code",
   "execution_count": 1,
   "id": "037fac42",
   "metadata": {},
   "outputs": [],
   "source": [
    "model_savedir_buttons = 'V:/Uni/Thesis/Code/ThesisWaybackMachine-Cookie-Dialog//buttons_model'\n",
    "model_savedir_dialog = 'V:/Uni/Thesis/Code/Thesis/WaybackMachine-Cookie-Dialog/dialogue_model'\n",
    "classification_buttons_filename = 'V:/Uni/Thesis/Code/Thesis/WaybackMachine-Cookie-Dialog/Classification file for buttons.csv'\n",
    "classification_dialog_filename = 'V:/Uni/Thesis/Code/Thesis/WaybackMachine-Cookie-Dialog/Classification file for cookie dialog.csv'"
   ]
  }
 ],
 "metadata": {
  "interpreter": {
   "hash": "d6d375a6e2c1dd629f8ae9029f5d025192cb72fe1211813c90f07a61aadb7945"
  },
  "kernelspec": {
   "display_name": "Python 3 (ipykernel)",
   "language": "python",
   "name": "python3"
  },
  "language_info": {
   "codemirror_mode": {
    "name": "ipython",
    "version": 3
   },
   "file_extension": ".py",
   "mimetype": "text/x-python",
   "name": "python",
   "nbconvert_exporter": "python",
   "pygments_lexer": "ipython3",
   "version": "3.10.8"
  }
 },
 "nbformat": 4,
 "nbformat_minor": 5
}
