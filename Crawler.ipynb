{
 "cells": [
  {
   "cell_type": "code",
   "execution_count": 32,
   "id": "087269e3",
   "metadata": {
    "scrolled": false
   },
   "outputs": [
    {
     "name": "stdout",
     "output_type": "stream",
     "text": [
      "['www.free.fr', 'www.google.fr', 'www.amazon.fr', 'www.lemonde.fr', 'www.lefigaro.fr', 'www.weborama.fr', 'www.orange.fr', 'www.leboncoin.fr', 'www.rfi.fr', 'www.francetvinfo.fr', 'www.cnrs.fr']\n"
     ]
    }
   ],
   "source": [
    "%run Model_setup.ipynb\n",
    "%run Create_list_of_URLs.ipynb"
   ]
  },
  {
   "cell_type": "code",
   "execution_count": 36,
   "id": "50c523fc",
   "metadata": {},
   "outputs": [
    {
     "name": "stdout",
     "output_type": "stream",
     "text": [
      "www.google.fr https://web.archive.org/web/20200712193240/http://www.google.fr/ Success.\n",
      "www.google.fr https://web.archive.org/web/20200812202822/http://www.google.fr/ Success.\n",
      "www.google.fr https://web.archive.org/web/20200912194125/http://www.google.fr/ Success.\n",
      "www.google.fr https://web.archive.org/web/20201012193024/http://www.google.fr Success.\n",
      "www.google.fr https://web.archive.org/web/20201112214452/https://www.google.fr/ Success.\n",
      "www.google.fr https://web.archive.org/web/20201212193814/https://www.google.fr/ Success.\n",
      "www.amazon.fr https://web.archive.org/web/20200712220603/https://www.amazon.fr/ Success.\n",
      "www.amazon.fr https://web.archive.org/web/20200812191533/https://www.amazon.fr/ Success.\n",
      "www.amazon.fr https://web.archive.org/web/20200912173925/https://www.amazon.fr/ Success.\n",
      "www.amazon.fr https://web.archive.org/web/20201012192720/https://www.amazon.fr/ Success.\n",
      "www.amazon.fr https://web.archive.org/web/20201113044348/https://www.amazon.fr/ Success.\n",
      "www.amazon.fr https://web.archive.org/web/20201212194625/https://www.amazon.fr/ Success.\n"
     ]
    },
    {
     "ename": "TooManyRequestsError",
     "evalue": "Can not save 'www.lemonde.fr'. Save request refused by the server. Save Page Now limits saving 15 URLs per minutes. Try waiting for 5 minutes and then try again.",
     "output_type": "error",
     "traceback": [
      "\u001b[1;31m---------------------------------------------------------------------------\u001b[0m",
      "\u001b[1;31mTooManyRequestsError\u001b[0m                      Traceback (most recent call last)",
      "Cell \u001b[1;32mIn[36], line 2\u001b[0m\n\u001b[0;32m      1\u001b[0m \u001b[38;5;66;03m# Create list of URLs of specific dates\u001b[39;00m\n\u001b[1;32m----> 2\u001b[0m dictory_of_urls \u001b[38;5;241m=\u001b[39m \u001b[43mgo_over_websites\u001b[49m\u001b[43m(\u001b[49m\u001b[43mfirst_ten_websites\u001b[49m\u001b[43m[\u001b[49m\u001b[38;5;241;43m1\u001b[39;49m\u001b[43m:\u001b[49m\u001b[43m]\u001b[49m\u001b[43m)\u001b[49m\n",
      "File \u001b[1;32m~\\AppData\\Local\\Temp\\ipykernel_26148\\1137031060.py:5\u001b[0m, in \u001b[0;36mgo_over_websites\u001b[1;34m(websites_list)\u001b[0m\n\u001b[0;32m      3\u001b[0m get_list \u001b[38;5;241m=\u001b[39m {}\n\u001b[0;32m      4\u001b[0m \u001b[38;5;28;01mfor\u001b[39;00m url \u001b[38;5;129;01min\u001b[39;00m websites_list:\n\u001b[1;32m----> 5\u001b[0m     get_list[url] \u001b[38;5;241m=\u001b[39m \u001b[43mgo_over_months\u001b[49m\u001b[43m(\u001b[49m\u001b[43murl\u001b[49m\u001b[43m)\u001b[49m  \n\u001b[0;32m      6\u001b[0m \u001b[38;5;28;01mreturn\u001b[39;00m get_list\n",
      "File \u001b[1;32m~\\AppData\\Local\\Temp\\ipykernel_26148\\1366263949.py:5\u001b[0m, in \u001b[0;36mgo_over_months\u001b[1;34m(website)\u001b[0m\n\u001b[0;32m      2\u001b[0m \u001b[38;5;28;01mdef\u001b[39;00m \u001b[38;5;21mgo_over_months\u001b[39m(website):\n\u001b[0;32m      3\u001b[0m     \u001b[38;5;66;03m# list of urls for the website for each month\u001b[39;00m\n\u001b[0;32m      4\u001b[0m     urls_of_dates \u001b[38;5;241m=\u001b[39m []\n\u001b[1;32m----> 5\u001b[0m     wayback_obj \u001b[38;5;241m=\u001b[39m \u001b[43mUrl\u001b[49m\u001b[43m(\u001b[49m\u001b[43mwebsite\u001b[49m\u001b[43m)\u001b[49m\u001b[38;5;241;43m.\u001b[39;49m\u001b[43msave\u001b[49m\u001b[43m(\u001b[49m\u001b[43m)\u001b[49m\n\u001b[0;32m      6\u001b[0m     \u001b[38;5;66;03m#print(wayback_obj)\u001b[39;00m\n\u001b[0;32m      7\u001b[0m \n\u001b[0;32m      8\u001b[0m     \u001b[38;5;66;03m# iterating between 01-07-2019 to 25-03-25 by jumps of 31 days \u001b[39;00m\n\u001b[0;32m      9\u001b[0m     start_date \u001b[38;5;241m=\u001b[39m START_DATE_FRANCE\n",
      "File \u001b[1;32m~\\AppData\\Local\\Packages\\PythonSoftwareFoundation.Python.3.11_qbz5n2kfra8p0\\LocalCache\\local-packages\\Python311\\site-packages\\waybackpy\\wrapper.py:74\u001b[0m, in \u001b[0;36mUrl.save\u001b[1;34m(self)\u001b[0m\n\u001b[0;32m     70\u001b[0m \u001b[38;5;250m\u001b[39m\u001b[38;5;124;03m\"\"\"Save the URL on wayback machine.\"\"\"\u001b[39;00m\n\u001b[0;32m     71\u001b[0m \u001b[38;5;28mself\u001b[39m\u001b[38;5;241m.\u001b[39mwayback_machine_save_api \u001b[38;5;241m=\u001b[39m WaybackMachineSaveAPI(\n\u001b[0;32m     72\u001b[0m     \u001b[38;5;28mself\u001b[39m\u001b[38;5;241m.\u001b[39murl, user_agent\u001b[38;5;241m=\u001b[39m\u001b[38;5;28mself\u001b[39m\u001b[38;5;241m.\u001b[39muser_agent\n\u001b[0;32m     73\u001b[0m )\n\u001b[1;32m---> 74\u001b[0m \u001b[38;5;28mself\u001b[39m\u001b[38;5;241m.\u001b[39marchive_url \u001b[38;5;241m=\u001b[39m \u001b[38;5;28;43mself\u001b[39;49m\u001b[38;5;241;43m.\u001b[39;49m\u001b[43mwayback_machine_save_api\u001b[49m\u001b[38;5;241;43m.\u001b[39;49m\u001b[43marchive_url\u001b[49m\n\u001b[0;32m     75\u001b[0m \u001b[38;5;28mself\u001b[39m\u001b[38;5;241m.\u001b[39mtimestamp \u001b[38;5;241m=\u001b[39m \u001b[38;5;28mself\u001b[39m\u001b[38;5;241m.\u001b[39mwayback_machine_save_api\u001b[38;5;241m.\u001b[39mtimestamp()\n\u001b[0;32m     76\u001b[0m \u001b[38;5;28mself\u001b[39m\u001b[38;5;241m.\u001b[39mheaders \u001b[38;5;241m=\u001b[39m \u001b[38;5;28mself\u001b[39m\u001b[38;5;241m.\u001b[39mwayback_machine_save_api\u001b[38;5;241m.\u001b[39mheaders\n",
      "File \u001b[1;32m~\\AppData\\Local\\Packages\\PythonSoftwareFoundation.Python.3.11_qbz5n2kfra8p0\\LocalCache\\local-packages\\Python311\\site-packages\\waybackpy\\save_api.py:64\u001b[0m, in \u001b[0;36mWaybackMachineSaveAPI.archive_url\u001b[1;34m(self)\u001b[0m\n\u001b[0;32m     61\u001b[0m \u001b[38;5;28;01mif\u001b[39;00m \u001b[38;5;28mself\u001b[39m\u001b[38;5;241m.\u001b[39m_archive_url:\n\u001b[0;32m     62\u001b[0m     \u001b[38;5;28;01mreturn\u001b[39;00m \u001b[38;5;28mself\u001b[39m\u001b[38;5;241m.\u001b[39m_archive_url\n\u001b[1;32m---> 64\u001b[0m \u001b[38;5;28;01mreturn\u001b[39;00m \u001b[38;5;28;43mself\u001b[39;49m\u001b[38;5;241;43m.\u001b[39;49m\u001b[43msave\u001b[49m\u001b[43m(\u001b[49m\u001b[43m)\u001b[49m\n",
      "File \u001b[1;32m~\\AppData\\Local\\Packages\\PythonSoftwareFoundation.Python.3.11_qbz5n2kfra8p0\\LocalCache\\local-packages\\Python311\\site-packages\\waybackpy\\save_api.py:210\u001b[0m, in \u001b[0;36mWaybackMachineSaveAPI.save\u001b[1;34m(self)\u001b[0m\n\u001b[0;32m    207\u001b[0m \u001b[38;5;28;01mif\u001b[39;00m tries \u001b[38;5;241m>\u001b[39m\u001b[38;5;241m=\u001b[39m \u001b[38;5;241m1\u001b[39m:\n\u001b[0;32m    208\u001b[0m     \u001b[38;5;28mself\u001b[39m\u001b[38;5;241m.\u001b[39msleep(tries)\n\u001b[1;32m--> 210\u001b[0m \u001b[38;5;28;43mself\u001b[39;49m\u001b[38;5;241;43m.\u001b[39;49m\u001b[43mget_save_request_headers\u001b[49m\u001b[43m(\u001b[49m\u001b[43m)\u001b[49m\n\u001b[0;32m    211\u001b[0m \u001b[38;5;28mself\u001b[39m\u001b[38;5;241m.\u001b[39msaved_archive \u001b[38;5;241m=\u001b[39m \u001b[38;5;28mself\u001b[39m\u001b[38;5;241m.\u001b[39marchive_url_parser()\n\u001b[0;32m    213\u001b[0m \u001b[38;5;28;01mif\u001b[39;00m \u001b[38;5;28misinstance\u001b[39m(\u001b[38;5;28mself\u001b[39m\u001b[38;5;241m.\u001b[39msaved_archive, \u001b[38;5;28mstr\u001b[39m):\n",
      "File \u001b[1;32m~\\AppData\\Local\\Packages\\PythonSoftwareFoundation.Python.3.11_qbz5n2kfra8p0\\LocalCache\\local-packages\\Python311\\site-packages\\waybackpy\\save_api.py:99\u001b[0m, in \u001b[0;36mWaybackMachineSaveAPI.get_save_request_headers\u001b[1;34m(self)\u001b[0m\n\u001b[0;32m     94\u001b[0m session\u001b[38;5;241m.\u001b[39mclose()\n\u001b[0;32m     96\u001b[0m \u001b[38;5;28;01mif\u001b[39;00m \u001b[38;5;28mself\u001b[39m\u001b[38;5;241m.\u001b[39mstatus_code \u001b[38;5;241m==\u001b[39m \u001b[38;5;241m429\u001b[39m:\n\u001b[0;32m     97\u001b[0m     \u001b[38;5;66;03m# why wait 5 minutes and 429?\u001b[39;00m\n\u001b[0;32m     98\u001b[0m     \u001b[38;5;66;03m# see https://github.com/akamhy/waybackpy/issues/97\u001b[39;00m\n\u001b[1;32m---> 99\u001b[0m     \u001b[38;5;28;01mraise\u001b[39;00m TooManyRequestsError(\n\u001b[0;32m    100\u001b[0m         \u001b[38;5;124mf\u001b[39m\u001b[38;5;124m\"\u001b[39m\u001b[38;5;124mCan not save \u001b[39m\u001b[38;5;124m'\u001b[39m\u001b[38;5;132;01m{\u001b[39;00m\u001b[38;5;28mself\u001b[39m\u001b[38;5;241m.\u001b[39murl\u001b[38;5;132;01m}\u001b[39;00m\u001b[38;5;124m'\u001b[39m\u001b[38;5;124m. \u001b[39m\u001b[38;5;124m\"\u001b[39m\n\u001b[0;32m    101\u001b[0m         \u001b[38;5;124mf\u001b[39m\u001b[38;5;124m\"\u001b[39m\u001b[38;5;124mSave request refused by the server. \u001b[39m\u001b[38;5;124m\"\u001b[39m\n\u001b[0;32m    102\u001b[0m         \u001b[38;5;124mf\u001b[39m\u001b[38;5;124m\"\u001b[39m\u001b[38;5;124mSave Page Now limits saving 15 URLs per minutes. \u001b[39m\u001b[38;5;124m\"\u001b[39m\n\u001b[0;32m    103\u001b[0m         \u001b[38;5;124mf\u001b[39m\u001b[38;5;124m\"\u001b[39m\u001b[38;5;124mTry waiting for 5 minutes and then try again.\u001b[39m\u001b[38;5;124m\"\u001b[39m\n\u001b[0;32m    104\u001b[0m     )\n\u001b[0;32m    106\u001b[0m \u001b[38;5;66;03m# why 509?\u001b[39;00m\n\u001b[0;32m    107\u001b[0m \u001b[38;5;66;03m# see https://github.com/akamhy/waybackpy/pull/99\u001b[39;00m\n\u001b[0;32m    108\u001b[0m \u001b[38;5;66;03m# also https://t.co/xww4YJ0Iwc\u001b[39;00m\n\u001b[0;32m    109\u001b[0m \u001b[38;5;28;01mif\u001b[39;00m \u001b[38;5;28mself\u001b[39m\u001b[38;5;241m.\u001b[39mstatus_code \u001b[38;5;241m==\u001b[39m \u001b[38;5;241m509\u001b[39m:\n",
      "\u001b[1;31mTooManyRequestsError\u001b[0m: Can not save 'www.lemonde.fr'. Save request refused by the server. Save Page Now limits saving 15 URLs per minutes. Try waiting for 5 minutes and then try again."
     ]
    }
   ],
   "source": [
    "# Create list of URLs of specific dates\n",
    "dictory_of_urls = go_over_websites(first_ten_websites[1:])"
   ]
  },
  {
   "cell_type": "code",
   "execution_count": null,
   "id": "eb4d1950",
   "metadata": {},
   "outputs": [],
   "source": [
    "def crawling(url):\n",
    "    \"\"\"\n",
    "    Main function to extract iframes and active elements from a web page and pass them to an ML model.\n",
    "\n",
    "    Args:\n",
    "        url (str): The URL of the web page.\n",
    "    \"\"\"\n",
    "    driver = setup_firefox_driver()\n",
    "    driver.get(url)\n",
    "    sleep(5)\n",
    "    html = driver.page_source\n",
    "\n",
    "    soup = BeautifulSoup(html, 'html.parser')\n",
    "    \n",
    "    iframes = soup.find_all(['div', 'iframe'])\n",
    "    active_elements = soup.find_all(['a', 'button', 'input', 'yt-formatted-string', 'p', 'span', 'form'])\n",
    "    \n",
    "    #button_elements = soup.find_all(['button', 'input', 'span', 'a'])\n",
    "    button_elements = soup.find_all(['button', 'input[type=\"submit\"]', 'a'])\n",
    "    \n",
    "\n",
    "    # Extract text content from iframes and active elements\n",
    "    text_content = extract_text_from_elements(active_elements)\n",
    "        \n",
    "    button_text = extract_text_from_elements(button_elements)\n",
    "    #text_content.extend(extract_text_from_iframes(iframes, driver))\n",
    "    \n",
    "    #check = search_dialog(iframes, text_content)\n",
    "    search_frames(iframes, text_content, button_text)\n",
    "    \n",
    "    driver.quit()\n",
    "    dialog_result = pass_to_ml_model_dialog(text_content)\n",
    "    if dialog_result != \"not found\":\n",
    "        return (dialog_result, pass_to_ml_model_buttons(button_text))\n",
    "    return \"not found\""
   ]
  },
  {
   "cell_type": "code",
   "execution_count": null,
   "id": "77609474",
   "metadata": {},
   "outputs": [],
   "source": [
    "webs = []\n",
    "for web in dictory_of_urls:\n",
    "    webs.append(web)"
   ]
  },
  {
   "cell_type": "code",
   "execution_count": null,
   "id": "75e80d98",
   "metadata": {},
   "outputs": [],
   "source": [
    "for web in webs:\n",
    "    for web_visit in dictory_of_urls[web]:\n",
    "        results_web = main(web_visit[0])\n",
    "        if not ( results_web == \"not found\"):\n",
    "            print(web_visit)\n",
    "            print(results_web)\n",
    "            break"
   ]
  },
  {
   "cell_type": "code",
   "execution_count": null,
   "id": "9f0ca890",
   "metadata": {},
   "outputs": [],
   "source": []
  }
 ],
 "metadata": {
  "kernelspec": {
   "display_name": "Python 3 (ipykernel)",
   "language": "python",
   "name": "python3"
  },
  "language_info": {
   "codemirror_mode": {
    "name": "ipython",
    "version": 3
   },
   "file_extension": ".py",
   "mimetype": "text/x-python",
   "name": "python",
   "nbconvert_exporter": "python",
   "pygments_lexer": "ipython3",
   "version": "3.11.5"
  }
 },
 "nbformat": 4,
 "nbformat_minor": 5
}
