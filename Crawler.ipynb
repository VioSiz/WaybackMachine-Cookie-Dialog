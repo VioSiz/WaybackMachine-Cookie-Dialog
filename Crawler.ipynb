{
 "cells": [
  {
   "cell_type": "code",
   "execution_count": null,
   "id": "003be633",
   "metadata": {},
   "outputs": [],
   "source": [
    "from tqdm.notebook import tqdm\n",
    "\n",
    "\n",
    "os.environ[\"TOKENIZERS_PARALLELISM\"] = \"false\""
   ]
  },
  {
   "cell_type": "code",
   "execution_count": 9,
   "id": "38580722",
   "metadata": {
    "scrolled": false
   },
   "outputs": [
    {
     "name": "stdout",
     "output_type": "stream",
     "text": [
      "['www.free.fr', 'www.google.fr', 'www.amazon.fr', 'www.lemonde.fr', 'www.lefigaro.fr', 'www.weborama.fr', 'www.orange.fr', 'www.leboncoin.fr', 'www.rfi.fr', 'www.francetvinfo.fr']\n"
     ]
    }
   ],
   "source": [
    "%run Model_setup.ipynb\n",
    "%run Create_list_of_URLs.ipynb"
   ]
  },
  {
   "cell_type": "code",
   "execution_count": 8,
   "id": "a39e0840",
   "metadata": {
    "scrolled": false
   },
   "outputs": [
    {
     "name": "stdout",
     "output_type": "stream",
     "text": [
      "www.free.fr https://web.archive.org/web/20200713180929/https://free.fr/ Success.\n",
      "www.free.fr https://web.archive.org/web/20200813184803/http://free.fr/ Success.\n",
      "www.free.fr https://web.archive.org/web/20200913181526/http://emmaus.saintmarcel@free.fr/ Success.\n",
      "www.free.fr https://web.archive.org/web/20201013181344/https://free.fr/ Success.\n",
      "www.free.fr https://web.archive.org/web/20201113183825/http://rmimausa@free.fr/ Success.\n",
      "www.free.fr https://web.archive.org/web/20201213172351/https://free.fr/ Success.\n",
      "www.google.fr https://web.archive.org/web/20200713182212/https://www.google.fr/ Success.\n",
      "www.google.fr https://web.archive.org/web/20200813183344/https://www.google.fr/ Success.\n",
      "www.google.fr https://web.archive.org/web/20200913184038/https://www.google.fr/ Success.\n",
      "www.google.fr https://web.archive.org/web/20201013184605/https://google.fr/ Success.\n",
      "www.google.fr https://web.archive.org/web/20201113181609/http://www.google.fr/ Success.\n",
      "www.google.fr https://web.archive.org/web/20201213162504/https://www.google.fr/ Success.\n",
      "www.amazon.fr https://web.archive.org/web/20200713160229/https://www.amazon.fr/ Success.\n",
      "www.amazon.fr https://web.archive.org/web/20200813174509/https://www.amazon.fr/ Success.\n",
      "www.amazon.fr https://web.archive.org/web/20200913174220/https://www.amazon.fr/ Success.\n",
      "www.amazon.fr https://web.archive.org/web/20201013182930/https://www.amazon.fr/ Success.\n",
      "www.amazon.fr https://web.archive.org/web/20201113190628/https://www.amazon.fr/ Success.\n",
      "www.amazon.fr https://web.archive.org/web/20201213180017/https://www.amazon.fr/ Success.\n",
      "www.lemonde.fr https://web.archive.org/web/20200713181951/https://www.lemonde.fr/ Success.\n",
      "www.lemonde.fr https://web.archive.org/web/20200813183158/https://www.lemonde.fr/ Success.\n",
      "www.lemonde.fr https://web.archive.org/web/20200913202212/http://lemonde.fr/ Success.\n",
      "www.lemonde.fr https://web.archive.org/web/20201013191659/https://www.lemonde.fr/ Success.\n",
      "www.lemonde.fr https://web.archive.org/web/20201113193844/https://www.lemonde.fr Success.\n",
      "www.lemonde.fr https://web.archive.org/web/20201213175056/http://lemonde.fr/ Success.\n",
      "www.lefigaro.fr https://web.archive.org/web/20200713163643/https://www.lefigaro.fr/ Success.\n",
      "www.lefigaro.fr https://web.archive.org/web/20200813191240/http://lefigaro.fr/ Success.\n",
      "www.lefigaro.fr https://web.archive.org/web/20200913185906/http://www.lefigaro.fr/ Success.\n",
      "www.lefigaro.fr https://web.archive.org/web/20201013181526/https://www.lefigaro.fr/ Success.\n",
      "www.lefigaro.fr https://web.archive.org/web/20201113185235/https://www.lefigaro.fr/ Success.\n",
      "www.lefigaro.fr https://web.archive.org/web/20201213180520/http://lefigaro.fr/ Success.\n",
      "www.weborama.fr https://web.archive.org/web/20200713143132/https://weborama.fr/ Success.\n",
      "www.weborama.fr https://web.archive.org/web/20200813201412/http://weborama.fr/ Success.\n",
      "www.weborama.fr https://web.archive.org/web/20200914152014/https://weborama.fr/ Success.\n",
      "www.weborama.fr https://web.archive.org/web/20201013174609/https://weborama.fr/ Success.\n",
      "www.weborama.fr https://web.archive.org/web/20201113151111/http://weborama.fr/ Success.\n",
      "www.weborama.fr https://web.archive.org/web/20201213113345/https://weborama.fr/ Success.\n",
      "www.orange.fr https://web.archive.org/web/20200713182651/http://lagardiole@orange.fr/ Success.\n",
      "www.orange.fr https://web.archive.org/web/20200813182708/https://www.orange.fr/ Success.\n",
      "www.orange.fr https://web.archive.org/web/20200913182630/https://www.orange.fr/ Success.\n",
      "www.orange.fr https://web.archive.org/web/20201013185804/http://orange.fr/ Success.\n",
      "www.orange.fr https://web.archive.org/web/20201113183331/https://www.orange.fr/ Success.\n",
      "www.orange.fr https://web.archive.org/web/20201213191701/https://www.orange.fr/ Success.\n",
      "www.leboncoin.fr https://web.archive.org/web/20200713135558/http://www.leboncoin.fr/ Success.\n",
      "www.leboncoin.fr https://web.archive.org/web/20200813210010/https://www.leboncoin.fr/ Success.\n",
      "www.leboncoin.fr https://web.archive.org/web/20200913113325/http://www.leboncoin.fr/ Success.\n",
      "www.leboncoin.fr https://web.archive.org/web/20201013154334/https://www.leboncoin.fr/ Success.\n",
      "www.leboncoin.fr https://web.archive.org/web/20201113171643/https://www.leboncoin.fr/ Success.\n",
      "www.leboncoin.fr https://web.archive.org/web/20201213014359/https://www.leboncoin.fr/ Success.\n",
      "www.rfi.fr https://web.archive.org/web/20200713190458/https://www.rfi.fr/ Success.\n",
      "www.rfi.fr https://web.archive.org/web/20200813160319/http://www.rfi.fr/ Success.\n",
      "www.rfi.fr https://web.archive.org/web/20200913184015/https://www.rfi.fr/ Success.\n",
      "www.rfi.fr https://web.archive.org/web/20201013164033/http://rfi.fr/ Success.\n",
      "www.rfi.fr https://web.archive.org/web/20201113182125/http://www.rfi.fr/ Success.\n",
      "www.rfi.fr https://web.archive.org/web/20201213181242/http://www.rfi.fr/ Success.\n",
      "www.francetvinfo.fr https://web.archive.org/web/20200713184135/https://www.francetvinfo.fr/ Success.\n",
      "www.francetvinfo.fr https://web.archive.org/web/20200813184123/http://francetvinfo.fr/ Success.\n",
      "www.francetvinfo.fr https://web.archive.org/web/20200913153040/https://www.francetvinfo.fr/ Success.\n",
      "www.francetvinfo.fr https://web.archive.org/web/20201013185705/https://www.francetvinfo.fr/ Success.\n",
      "www.francetvinfo.fr https://web.archive.org/web/20201113171750/https://www.francetvinfo.fr/ Success.\n",
      "www.francetvinfo.fr https://web.archive.org/web/20201213185040/http://www.francetvinfo.fr/ Success.\n"
     ]
    }
   ],
   "source": [
    "# Create list of URLs of specific dates\n",
    "dictory_of_urls = go_over_websites(first_ten_websites)"
   ]
  },
  {
   "cell_type": "code",
   "execution_count": 12,
   "id": "382e5e26",
   "metadata": {},
   "outputs": [
    {
     "name": "stdout",
     "output_type": "stream",
     "text": [
      "{'www.free.fr': [('https://web.archive.org/web/20200713180929/https://free.fr/', (2020, 7)), ('https://web.archive.org/web/20200813184803/http://free.fr/', (2020, 8)), ('https://web.archive.org/web/20200913181526/http://emmaus.saintmarcel@free.fr/', (2020, 9)), ('https://web.archive.org/web/20201013181344/https://free.fr/', (2020, 10)), ('https://web.archive.org/web/20201113183825/http://rmimausa@free.fr/', (2020, 11)), ('https://web.archive.org/web/20201213172351/https://free.fr/', (2020, 12))], 'www.google.fr': [('https://web.archive.org/web/20200713182212/https://www.google.fr/', (2020, 7)), ('https://web.archive.org/web/20200813183344/https://www.google.fr/', (2020, 8)), ('https://web.archive.org/web/20200913184038/https://www.google.fr/', (2020, 9)), ('https://web.archive.org/web/20201013184605/https://google.fr/', (2020, 10)), ('https://web.archive.org/web/20201113181609/http://www.google.fr/', (2020, 11)), ('https://web.archive.org/web/20201213162504/https://www.google.fr/', (2020, 12))], 'www.amazon.fr': [('https://web.archive.org/web/20200713160229/https://www.amazon.fr/', (2020, 7)), ('https://web.archive.org/web/20200813174509/https://www.amazon.fr/', (2020, 8)), ('https://web.archive.org/web/20200913174220/https://www.amazon.fr/', (2020, 9)), ('https://web.archive.org/web/20201013182930/https://www.amazon.fr/', (2020, 10)), ('https://web.archive.org/web/20201113190628/https://www.amazon.fr/', (2020, 11)), ('https://web.archive.org/web/20201213180017/https://www.amazon.fr/', (2020, 12))], 'www.lemonde.fr': [('https://web.archive.org/web/20200713181951/https://www.lemonde.fr/', (2020, 7)), ('https://web.archive.org/web/20200813183158/https://www.lemonde.fr/', (2020, 8)), ('https://web.archive.org/web/20200913202212/http://lemonde.fr/', (2020, 9)), ('https://web.archive.org/web/20201013191659/https://www.lemonde.fr/', (2020, 10)), ('https://web.archive.org/web/20201113193844/https://www.lemonde.fr', (2020, 11)), ('https://web.archive.org/web/20201213175056/http://lemonde.fr/', (2020, 12))], 'www.lefigaro.fr': [('https://web.archive.org/web/20200713163643/https://www.lefigaro.fr/', (2020, 7)), ('https://web.archive.org/web/20200813191240/http://lefigaro.fr/', (2020, 8)), ('https://web.archive.org/web/20200913185906/http://www.lefigaro.fr/', (2020, 9)), ('https://web.archive.org/web/20201013181526/https://www.lefigaro.fr/', (2020, 10)), ('https://web.archive.org/web/20201113185235/https://www.lefigaro.fr/', (2020, 11)), ('https://web.archive.org/web/20201213180520/http://lefigaro.fr/', (2020, 12))], 'www.weborama.fr': [('https://web.archive.org/web/20200713143132/https://weborama.fr/', (2020, 7)), ('https://web.archive.org/web/20200813201412/http://weborama.fr/', (2020, 8)), ('https://web.archive.org/web/20200914152014/https://weborama.fr/', (2020, 9)), ('https://web.archive.org/web/20201013174609/https://weborama.fr/', (2020, 10)), ('https://web.archive.org/web/20201113151111/http://weborama.fr/', (2020, 11)), ('https://web.archive.org/web/20201213113345/https://weborama.fr/', (2020, 12))], 'www.orange.fr': [('https://web.archive.org/web/20200713182651/http://lagardiole@orange.fr/', (2020, 7)), ('https://web.archive.org/web/20200813182708/https://www.orange.fr/', (2020, 8)), ('https://web.archive.org/web/20200913182630/https://www.orange.fr/', (2020, 9)), ('https://web.archive.org/web/20201013185804/http://orange.fr/', (2020, 10)), ('https://web.archive.org/web/20201113183331/https://www.orange.fr/', (2020, 11)), ('https://web.archive.org/web/20201213191701/https://www.orange.fr/', (2020, 12))], 'www.leboncoin.fr': [('https://web.archive.org/web/20200713135558/http://www.leboncoin.fr/', (2020, 7)), ('https://web.archive.org/web/20200813210010/https://www.leboncoin.fr/', (2020, 8)), ('https://web.archive.org/web/20200913113325/http://www.leboncoin.fr/', (2020, 9)), ('https://web.archive.org/web/20201013154334/https://www.leboncoin.fr/', (2020, 10)), ('https://web.archive.org/web/20201113171643/https://www.leboncoin.fr/', (2020, 11)), ('https://web.archive.org/web/20201213014359/https://www.leboncoin.fr/', (2020, 12))], 'www.rfi.fr': [('https://web.archive.org/web/20200713190458/https://www.rfi.fr/', (2020, 7)), ('https://web.archive.org/web/20200813160319/http://www.rfi.fr/', (2020, 8)), ('https://web.archive.org/web/20200913184015/https://www.rfi.fr/', (2020, 9)), ('https://web.archive.org/web/20201013164033/http://rfi.fr/', (2020, 10)), ('https://web.archive.org/web/20201113182125/http://www.rfi.fr/', (2020, 11)), ('https://web.archive.org/web/20201213181242/http://www.rfi.fr/', (2020, 12))], 'www.francetvinfo.fr': [('https://web.archive.org/web/20200713184135/https://www.francetvinfo.fr/', (2020, 7)), ('https://web.archive.org/web/20200813184123/http://francetvinfo.fr/', (2020, 8)), ('https://web.archive.org/web/20200913153040/https://www.francetvinfo.fr/', (2020, 9)), ('https://web.archive.org/web/20201013185705/https://www.francetvinfo.fr/', (2020, 10)), ('https://web.archive.org/web/20201113171750/https://www.francetvinfo.fr/', (2020, 11)), ('https://web.archive.org/web/20201213185040/http://www.francetvinfo.fr/', (2020, 12))]}\n"
     ]
    }
   ],
   "source": [
    "print(dictory_of_urls)"
   ]
  },
  {
   "cell_type": "code",
   "execution_count": 11,
   "id": "723fdf34",
   "metadata": {},
   "outputs": [],
   "source": [
    "createJSON(\"urls.json\", dictory_of_urls)"
   ]
  },
  {
   "cell_type": "code",
   "execution_count": 24,
   "id": "11e7cbb4",
   "metadata": {},
   "outputs": [],
   "source": [
    "def crawling(url):\n",
    "    \"\"\"\n",
    "    Main function to extract iframes and active elements from a web page and pass them to an ML model.\n",
    "\n",
    "    Args:\n",
    "        url (str): The URL of the web page.\n",
    "    \"\"\"\n",
    "    driver = setup_firefox_driver()\n",
    "    driver.get(url)\n",
    "    sleep(5)\n",
    "    html = driver.page_source\n",
    "\n",
    "    list_cookies = []\n",
    "    \n",
    "    soup = BeautifulSoup(html, 'html.parser')\n",
    "    \n",
    "    iframes = soup.find_all(['div', 'iframe'])\n",
    "    active_elements = soup.find_all(['a', 'button', 'input', 'yt-formatted-string', 'p', 'span', 'form'])\n",
    "    \n",
    "    #button_elements = soup.find_all(['button', 'input', 'span', 'a'])\n",
    "    button_elements = soup.find_all(['button', 'input[type=\"submit\"]', 'a'])\n",
    "    \n",
    "\n",
    "    # Extract text content from iframes and active elements\n",
    "    text_content = extract_text_from_elements(active_elements)\n",
    "        \n",
    "    button_text = extract_text_from_elements(button_elements)\n",
    "    #text_content.extend(extract_text_from_iframes(iframes, driver))\n",
    "    \n",
    "    #check = search_dialog(iframes, text_content)\n",
    "    search_frames(iframes, text_content, button_text)\n",
    "    \n",
    "    list_cookies = driver.get_cookies()\n",
    "    driver.quit()\n",
    "    dialog_result = pass_to_ml_model_dialog(text_content)\n",
    "    if dialog_result != \"not found\":\n",
    "        return (dialog_result, pass_to_ml_model_buttons(button_text)), stored_cookies\n",
    "    return \"not found\", stored_cookies"
   ]
  },
  {
   "cell_type": "code",
   "execution_count": 25,
   "id": "17624a86",
   "metadata": {},
   "outputs": [],
   "source": [
    "webs = []\n",
    "for web in dictory_of_urls:\n",
    "    webs.append(web)"
   ]
  },
  {
   "cell_type": "code",
   "execution_count": 27,
   "id": "386f983a",
   "metadata": {},
   "outputs": [
    {
     "data": {
      "application/vnd.jupyter.widget-view+json": {
       "model_id": "b090216e81a04d8aab25038f2b568736",
       "version_major": 2,
       "version_minor": 0
      },
      "text/plain": [
       "  0%|          | 0/10 [00:00<?, ?it/s]"
      ]
     },
     "metadata": {},
     "output_type": "display_data"
    },
    {
     "name": "stdout",
     "output_type": "stream",
     "text": [
      "('https://web.archive.org/web/20200713180929/https://free.fr/', (2020, 7)) not found\n",
      "('https://web.archive.org/web/20200813184803/http://free.fr/', (2020, 8)) not found\n"
     ]
    },
    {
     "ename": "NoSuchWindowException",
     "evalue": "Message: Browsing context has been discarded\nStacktrace:\nRemoteError@chrome://remote/content/shared/RemoteError.sys.mjs:8:8\nWebDriverError@chrome://remote/content/shared/webdriver/Errors.sys.mjs:187:5\nNoSuchWindowError@chrome://remote/content/shared/webdriver/Errors.sys.mjs:613:5\nassert.that/<@chrome://remote/content/shared/webdriver/Assert.sys.mjs:485:13\nassert.open@chrome://remote/content/shared/webdriver/Assert.sys.mjs:147:4\nGeckoDriver.prototype.navigateTo@chrome://remote/content/marionette/driver.sys.mjs:821:39\ndespatch@chrome://remote/content/marionette/server.sys.mjs:320:40\nexecute@chrome://remote/content/marionette/server.sys.mjs:291:16\nonPacket/<@chrome://remote/content/marionette/server.sys.mjs:264:20\nonPacket@chrome://remote/content/marionette/server.sys.mjs:265:9\n_onJSONObjectReady/<@chrome://remote/content/marionette/transport.sys.mjs:496:20\n",
     "output_type": "error",
     "traceback": [
      "\u001b[1;31m---------------------------------------------------------------------------\u001b[0m",
      "\u001b[1;31mNoSuchWindowException\u001b[0m                     Traceback (most recent call last)",
      "Cell \u001b[1;32mIn[27], line 5\u001b[0m\n\u001b[0;32m      3\u001b[0m stored_cookies[web] \u001b[38;5;241m=\u001b[39m \u001b[38;5;28mdict\u001b[39m()\n\u001b[0;32m      4\u001b[0m \u001b[38;5;28;01mfor\u001b[39;00m url_to_visit \u001b[38;5;129;01min\u001b[39;00m dictory_of_urls[web]:\n\u001b[1;32m----> 5\u001b[0m     results_web, cookies \u001b[38;5;241m=\u001b[39m \u001b[43mcrawling\u001b[49m\u001b[43m(\u001b[49m\u001b[43murl_to_visit\u001b[49m\u001b[43m[\u001b[49m\u001b[38;5;241;43m0\u001b[39;49m\u001b[43m]\u001b[49m\u001b[43m)\u001b[49m\n\u001b[0;32m      6\u001b[0m     stored_cookies[web][url_to_visit] \u001b[38;5;241m=\u001b[39m cookies\n\u001b[0;32m      7\u001b[0m     \u001b[38;5;28;01mif\u001b[39;00m \u001b[38;5;129;01mnot\u001b[39;00m (results_web \u001b[38;5;241m==\u001b[39m \u001b[38;5;124m\"\u001b[39m\u001b[38;5;124mnot found\u001b[39m\u001b[38;5;124m\"\u001b[39m):\n",
      "Cell \u001b[1;32mIn[24], line 9\u001b[0m, in \u001b[0;36mcrawling\u001b[1;34m(url)\u001b[0m\n\u001b[0;32m      2\u001b[0m \u001b[38;5;250m\u001b[39m\u001b[38;5;124;03m\"\"\"\u001b[39;00m\n\u001b[0;32m      3\u001b[0m \u001b[38;5;124;03mMain function to extract iframes and active elements from a web page and pass them to an ML model.\u001b[39;00m\n\u001b[0;32m      4\u001b[0m \n\u001b[0;32m      5\u001b[0m \u001b[38;5;124;03mArgs:\u001b[39;00m\n\u001b[0;32m      6\u001b[0m \u001b[38;5;124;03m    url (str): The URL of the web page.\u001b[39;00m\n\u001b[0;32m      7\u001b[0m \u001b[38;5;124;03m\"\"\"\u001b[39;00m\n\u001b[0;32m      8\u001b[0m driver \u001b[38;5;241m=\u001b[39m setup_firefox_driver()\n\u001b[1;32m----> 9\u001b[0m \u001b[43mdriver\u001b[49m\u001b[38;5;241;43m.\u001b[39;49m\u001b[43mget\u001b[49m\u001b[43m(\u001b[49m\u001b[43murl\u001b[49m\u001b[43m)\u001b[49m\n\u001b[0;32m     10\u001b[0m sleep(\u001b[38;5;241m5\u001b[39m)\n\u001b[0;32m     11\u001b[0m html \u001b[38;5;241m=\u001b[39m driver\u001b[38;5;241m.\u001b[39mpage_source\n",
      "File \u001b[1;32m~\\AppData\\Local\\Packages\\PythonSoftwareFoundation.Python.3.11_qbz5n2kfra8p0\\LocalCache\\local-packages\\Python311\\site-packages\\selenium\\webdriver\\remote\\webdriver.py:355\u001b[0m, in \u001b[0;36mWebDriver.get\u001b[1;34m(self, url)\u001b[0m\n\u001b[0;32m    353\u001b[0m \u001b[38;5;28;01mdef\u001b[39;00m \u001b[38;5;21mget\u001b[39m(\u001b[38;5;28mself\u001b[39m, url: \u001b[38;5;28mstr\u001b[39m) \u001b[38;5;241m-\u001b[39m\u001b[38;5;241m>\u001b[39m \u001b[38;5;28;01mNone\u001b[39;00m:\n\u001b[0;32m    354\u001b[0m \u001b[38;5;250m    \u001b[39m\u001b[38;5;124;03m\"\"\"Loads a web page in the current browser session.\"\"\"\u001b[39;00m\n\u001b[1;32m--> 355\u001b[0m     \u001b[38;5;28;43mself\u001b[39;49m\u001b[38;5;241;43m.\u001b[39;49m\u001b[43mexecute\u001b[49m\u001b[43m(\u001b[49m\u001b[43mCommand\u001b[49m\u001b[38;5;241;43m.\u001b[39;49m\u001b[43mGET\u001b[49m\u001b[43m,\u001b[49m\u001b[43m \u001b[49m\u001b[43m{\u001b[49m\u001b[38;5;124;43m\"\u001b[39;49m\u001b[38;5;124;43murl\u001b[39;49m\u001b[38;5;124;43m\"\u001b[39;49m\u001b[43m:\u001b[49m\u001b[43m \u001b[49m\u001b[43murl\u001b[49m\u001b[43m}\u001b[49m\u001b[43m)\u001b[49m\n",
      "File \u001b[1;32m~\\AppData\\Local\\Packages\\PythonSoftwareFoundation.Python.3.11_qbz5n2kfra8p0\\LocalCache\\local-packages\\Python311\\site-packages\\selenium\\webdriver\\remote\\webdriver.py:346\u001b[0m, in \u001b[0;36mWebDriver.execute\u001b[1;34m(self, driver_command, params)\u001b[0m\n\u001b[0;32m    344\u001b[0m response \u001b[38;5;241m=\u001b[39m \u001b[38;5;28mself\u001b[39m\u001b[38;5;241m.\u001b[39mcommand_executor\u001b[38;5;241m.\u001b[39mexecute(driver_command, params)\n\u001b[0;32m    345\u001b[0m \u001b[38;5;28;01mif\u001b[39;00m response:\n\u001b[1;32m--> 346\u001b[0m     \u001b[38;5;28;43mself\u001b[39;49m\u001b[38;5;241;43m.\u001b[39;49m\u001b[43merror_handler\u001b[49m\u001b[38;5;241;43m.\u001b[39;49m\u001b[43mcheck_response\u001b[49m\u001b[43m(\u001b[49m\u001b[43mresponse\u001b[49m\u001b[43m)\u001b[49m\n\u001b[0;32m    347\u001b[0m     response[\u001b[38;5;124m\"\u001b[39m\u001b[38;5;124mvalue\u001b[39m\u001b[38;5;124m\"\u001b[39m] \u001b[38;5;241m=\u001b[39m \u001b[38;5;28mself\u001b[39m\u001b[38;5;241m.\u001b[39m_unwrap_value(response\u001b[38;5;241m.\u001b[39mget(\u001b[38;5;124m\"\u001b[39m\u001b[38;5;124mvalue\u001b[39m\u001b[38;5;124m\"\u001b[39m, \u001b[38;5;28;01mNone\u001b[39;00m))\n\u001b[0;32m    348\u001b[0m     \u001b[38;5;28;01mreturn\u001b[39;00m response\n",
      "File \u001b[1;32m~\\AppData\\Local\\Packages\\PythonSoftwareFoundation.Python.3.11_qbz5n2kfra8p0\\LocalCache\\local-packages\\Python311\\site-packages\\selenium\\webdriver\\remote\\errorhandler.py:245\u001b[0m, in \u001b[0;36mErrorHandler.check_response\u001b[1;34m(self, response)\u001b[0m\n\u001b[0;32m    243\u001b[0m         alert_text \u001b[38;5;241m=\u001b[39m value[\u001b[38;5;124m\"\u001b[39m\u001b[38;5;124malert\u001b[39m\u001b[38;5;124m\"\u001b[39m]\u001b[38;5;241m.\u001b[39mget(\u001b[38;5;124m\"\u001b[39m\u001b[38;5;124mtext\u001b[39m\u001b[38;5;124m\"\u001b[39m)\n\u001b[0;32m    244\u001b[0m     \u001b[38;5;28;01mraise\u001b[39;00m exception_class(message, screen, stacktrace, alert_text)  \u001b[38;5;66;03m# type: ignore[call-arg]  # mypy is not smart enough here\u001b[39;00m\n\u001b[1;32m--> 245\u001b[0m \u001b[38;5;28;01mraise\u001b[39;00m exception_class(message, screen, stacktrace)\n",
      "\u001b[1;31mNoSuchWindowException\u001b[0m: Message: Browsing context has been discarded\nStacktrace:\nRemoteError@chrome://remote/content/shared/RemoteError.sys.mjs:8:8\nWebDriverError@chrome://remote/content/shared/webdriver/Errors.sys.mjs:187:5\nNoSuchWindowError@chrome://remote/content/shared/webdriver/Errors.sys.mjs:613:5\nassert.that/<@chrome://remote/content/shared/webdriver/Assert.sys.mjs:485:13\nassert.open@chrome://remote/content/shared/webdriver/Assert.sys.mjs:147:4\nGeckoDriver.prototype.navigateTo@chrome://remote/content/marionette/driver.sys.mjs:821:39\ndespatch@chrome://remote/content/marionette/server.sys.mjs:320:40\nexecute@chrome://remote/content/marionette/server.sys.mjs:291:16\nonPacket/<@chrome://remote/content/marionette/server.sys.mjs:264:20\nonPacket@chrome://remote/content/marionette/server.sys.mjs:265:9\n_onJSONObjectReady/<@chrome://remote/content/marionette/transport.sys.mjs:496:20\n"
     ]
    }
   ],
   "source": [
    "stored_cookies = dict()\n",
    "for web in tqdm(webs):\n",
    "    stored_cookies[web] = dict()\n",
    "    for url_to_visit in dictory_of_urls[web]:\n",
    "        results_web, cookies = crawling(url_to_visit[0])\n",
    "        stored_cookies[web][url_to_visit] = cookies\n",
    "        if not (results_web == \"not found\"):\n",
    "            print(url_to_visit)\n",
    "            print(results_web)\n",
    "            break\n",
    "        else:\n",
    "            print(\"{} {}\".format(url_to_visit, results_web))\n",
    "print(stored_cookies)"
   ]
  },
  {
   "cell_type": "code",
   "execution_count": null,
   "id": "64e780e1",
   "metadata": {},
   "outputs": [],
   "source": []
  }
 ],
 "metadata": {
  "kernelspec": {
   "display_name": "Python 3 (ipykernel)",
   "language": "python",
   "name": "python3"
  },
  "language_info": {
   "codemirror_mode": {
    "name": "ipython",
    "version": 3
   },
   "file_extension": ".py",
   "mimetype": "text/x-python",
   "name": "python",
   "nbconvert_exporter": "python",
   "pygments_lexer": "ipython3",
   "version": "3.11.5"
  }
 },
 "nbformat": 4,
 "nbformat_minor": 5
}
