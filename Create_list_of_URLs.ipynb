{
 "cells": [
  {
   "cell_type": "code",
   "execution_count": 1,
   "id": "5ee0adb4",
   "metadata": {},
   "outputs": [],
   "source": [
    "import datetime\n",
    "import json\n",
    "from waybackpy import *\n",
    "import glob, os, os.path\n",
    "\n",
    "from time import sleep\n",
    "from selenium import webdriver\n",
    "from selenium.webdriver.common.by import By\n",
    "from selenium.webdriver.firefox.options import Options as FirefoxOptions\n",
    "from selenium.webdriver.firefox.service import Service as FirefoxService\n",
    "from selenium.webdriver.support import expected_conditions as EC\n",
    "from selenium.webdriver.support.ui import WebDriverWait\n",
    "from tranco import Tranco"
   ]
  },
  {
   "cell_type": "code",
   "execution_count": 21,
   "id": "d09e4521",
   "metadata": {},
   "outputs": [],
   "source": [
    "user_option = ['NOTHING', 'ACCEPT', 'REJECT', 'MANAGE']\n",
    "GLOBAL_SELECTOR = \"a, button, div, span, form, p\"\n",
    "NUMBER_OF_WEBSITES = 11\n",
    "\n",
    "USER_AGENT = \"Mozilla/5.0 (Windows NT 10.0; Win64; x64; rv:105.0) Gecko/20100101 Firefox/105.0\"\n",
    "START_DATE_FRANCE = datetime.date(2020,7, 14)\n",
    "END_DATE_FRANCE = datetime.date(2020, 12, 25)\n",
    "delta = datetime.timedelta(days=31)\n",
    "\n",
    "DATE_TRANCO_LIST='2022-10-01'"
   ]
  },
  {
   "cell_type": "code",
   "execution_count": 3,
   "id": "521a015e",
   "metadata": {},
   "outputs": [
    {
     "name": "stdout",
     "output_type": "stream",
     "text": [
      "['www.free.fr', 'www.google.fr', 'www.amazon.fr']\n"
     ]
    }
   ],
   "source": [
    "# Initializing tranco-list.eu list.\n",
    "t = Tranco(cache=True, cache_dir='.tranco')\n",
    "\n",
    "# Get tranco list for the specific date\n",
    "date_list = t.list(date=DATE_TRANCO_LIST)\n",
    "\n",
    "# Filter the list to what we are looking for.\n",
    "french_websites = [web for web in date_list.list if '.fr' in web]\n",
    "french_websites_www = [f'{website}' for website in french_websites]\n",
    "\n",
    "unformatted_websites = french_websites_www[0:NUMBER_OF_WEBSITES]\n",
    "\n",
    "first_ten_websites = []\n",
    "\n",
    "for website in unformatted_websites:\n",
    "    if not website.startswith(\"www.\"):\n",
    "        website = \"www.\" + website\n",
    "    first_ten_websites.append(website)\n",
    "    \n",
    "print(first_ten_websites)"
   ]
  },
  {
   "cell_type": "code",
   "execution_count": 4,
   "id": "5bce4565",
   "metadata": {},
   "outputs": [],
   "source": [
    "# Convert the date format to integer value (ymd)\n",
    "def to_integer(dt_time):\n",
    "    return 10000 * dt_time.year + 100 * dt_time.month + dt_time.day"
   ]
  },
  {
   "cell_type": "code",
   "execution_count": 5,
   "id": "6dce459b",
   "metadata": {},
   "outputs": [],
   "source": [
    "# Create list of urls for crawling\n",
    "def waybackify_url(url, closest_timestamp):\n",
    "    return f'https://web.archive.org/web/{closest_timestamp}/{url}'\n",
    "\n",
    "loist = {}\n",
    "\n",
    "for i in first_ten_websites:\n",
    "    loist2 = []\n",
    "    start_date = START_DATE_FRANCE\n",
    "    while start_date <= END_DATE_FRANCE:\n",
    "        url = waybackify_url(i, to_integer(start_date))\n",
    "        loist2.append((url, (start_date.year, start_date.month)))\n",
    "        start_date += delta\n",
    "    loist[i] = loist2"
   ]
  },
  {
   "cell_type": "code",
   "execution_count": 6,
   "id": "2b220531",
   "metadata": {},
   "outputs": [],
   "source": [
    "# Iterate over list of months for a specific website\n",
    "def go_over_months(website):\n",
    "    # list of urls for the website for each month\n",
    "    urls_of_dates = []\n",
    "    wayback_obj = Url(website).save()\n",
    "    #print(wayback_obj)\n",
    "\n",
    "    # iterating between 01-07-2019 to 25-03-25 by jumps of 31 days \n",
    "    start_date = START_DATE_FRANCE\n",
    "\n",
    "    # append list of urls using wayback obect wuth specific date to interact with the API.\n",
    "    while start_date <= END_DATE_FRANCE:\n",
    "        # sometimes the API fails so in that case we simply try again\n",
    "        try:\n",
    "            archive_url = wayback_obj.near(year=start_date.year, month=start_date.month).archive_url\n",
    "            urls_of_dates.append((archive_url, (start_date.year, start_date.month)))\n",
    "            print(website, archive_url, \"Success.\")\n",
    "            # go to the next month\n",
    "            start_date += delta\n",
    "            # the API is rather slow so we need to give some time to rest (:\n",
    "            sleep(3)\n",
    "        except Exception as e:\n",
    "            print(e)\n",
    "            continue\n",
    "            \n",
    "    return urls_of_dates"
   ]
  },
  {
   "cell_type": "code",
   "execution_count": 7,
   "id": "798e5b8f",
   "metadata": {},
   "outputs": [],
   "source": [
    "# For each website, visit urls of each months.\n",
    "def go_over_websites(websites_list):\n",
    "    get_list = {}\n",
    "    for url in websites_list:\n",
    "        get_list[url] = go_over_months(url)  \n",
    "    return get_list"
   ]
  },
  {
   "cell_type": "code",
   "execution_count": 10,
   "id": "a1f4b3b9",
   "metadata": {},
   "outputs": [],
   "source": [
    "# to print URLs nicely\n",
    "def print_dictionary_of_urls(dictory_of_urls):\n",
    "    for website, urls in dictory_of_urls.items():\n",
    "        print(f\"Website: {website}\")\n",
    "        for url, date in urls:\n",
    "            print(f\"URL: {url}, Date: {date}\")\n",
    "        print()\n",
    "\n",
    "#print_dictionary_of_urls(dictory_of_urls)"
   ]
  },
  {
   "cell_type": "code",
   "execution_count": 18,
   "id": "b32025ba",
   "metadata": {},
   "outputs": [
    {
     "name": "stdout",
     "output_type": "stream",
     "text": [
      "Website: www.free.fr\n",
      "URL: https://web.archive.org/web/20170616092025/http://www2004.free.fr/, Date: (2020, 7)\n",
      "URL: https://web.archive.org/web/20170616092025/http://www2004.free.fr/, Date: (2020, 8)\n",
      "URL: https://web.archive.org/web/20170616092025/http://www2004.free.fr/, Date: (2020, 9)\n",
      "URL: https://web.archive.org/web/20170616092025/http://www2004.free.fr/, Date: (2020, 10)\n",
      "URL: https://web.archive.org/web/20170616092025/http://www2004.free.fr/, Date: (2020, 11)\n",
      "URL: https://web.archive.org/web/20170616092025/http://www2004.free.fr/, Date: (2020, 12)\n",
      "\n",
      "Website: www.google.fr\n",
      "URL: https://web.archive.org/web/20200712184840/https://www.google.fr/, Date: (2020, 7)\n",
      "URL: https://web.archive.org/web/20200812202822/http://www.google.fr/, Date: (2020, 8)\n",
      "URL: https://web.archive.org/web/20200912181814/https://www.google.fr/, Date: (2020, 9)\n",
      "URL: https://web.archive.org/web/20201012183609/http://www.google.fr/, Date: (2020, 10)\n",
      "URL: https://web.archive.org/web/20201112160925/http://www.google.fr/, Date: (2020, 11)\n",
      "URL: https://web.archive.org/web/20201212193814/https://www.google.fr/, Date: (2020, 12)\n",
      "\n",
      "Website: www.amazon.fr\n",
      "URL: https://web.archive.org/web/20200712220603/https://www.amazon.fr/, Date: (2020, 7)\n",
      "URL: https://web.archive.org/web/20200812191533/https://www.amazon.fr/, Date: (2020, 8)\n",
      "URL: https://web.archive.org/web/20200912173925/https://www.amazon.fr/, Date: (2020, 9)\n",
      "URL: https://web.archive.org/web/20201012181625/https://www.amazon.fr/, Date: (2020, 10)\n",
      "URL: https://web.archive.org/web/20201113044348/https://www.amazon.fr/, Date: (2020, 11)\n",
      "URL: https://web.archive.org/web/20201212173552/https://www.amazon.fr/, Date: (2020, 12)\n",
      "\n",
      "{'www.free.fr': [('https://web.archive.org/web/20170616092025/http://www2004.free.fr/', (2020, 7)), ('https://web.archive.org/web/20170616092025/http://www2004.free.fr/', (2020, 8)), ('https://web.archive.org/web/20170616092025/http://www2004.free.fr/', (2020, 9)), ('https://web.archive.org/web/20170616092025/http://www2004.free.fr/', (2020, 10)), ('https://web.archive.org/web/20170616092025/http://www2004.free.fr/', (2020, 11)), ('https://web.archive.org/web/20170616092025/http://www2004.free.fr/', (2020, 12))], 'www.google.fr': [('https://web.archive.org/web/20200712184840/https://www.google.fr/', (2020, 7)), ('https://web.archive.org/web/20200812202822/http://www.google.fr/', (2020, 8)), ('https://web.archive.org/web/20200912181814/https://www.google.fr/', (2020, 9)), ('https://web.archive.org/web/20201012183609/http://www.google.fr/', (2020, 10)), ('https://web.archive.org/web/20201112160925/http://www.google.fr/', (2020, 11)), ('https://web.archive.org/web/20201212193814/https://www.google.fr/', (2020, 12))], 'www.amazon.fr': [('https://web.archive.org/web/20200712220603/https://www.amazon.fr/', (2020, 7)), ('https://web.archive.org/web/20200812191533/https://www.amazon.fr/', (2020, 8)), ('https://web.archive.org/web/20200912173925/https://www.amazon.fr/', (2020, 9)), ('https://web.archive.org/web/20201012181625/https://www.amazon.fr/', (2020, 10)), ('https://web.archive.org/web/20201113044348/https://www.amazon.fr/', (2020, 11)), ('https://web.archive.org/web/20201212173552/https://www.amazon.fr/', (2020, 12))]}\n"
     ]
    }
   ],
   "source": [
    "#print(dictory_of_urls)\n",
    "\n",
    "# To do: validate this list by checking\n",
    "# wheter every link for a specific website \"contains\" the original name of this website starting with \"www.\". \n",
    "# Print a separate json file with the check results."
   ]
  },
  {
   "cell_type": "code",
   "execution_count": 14,
   "id": "8c396a30",
   "metadata": {},
   "outputs": [
    {
     "name": "stdout",
     "output_type": "stream",
     "text": [
      "www.free.fr\n",
      "(2020, 7)\n",
      "(2020, 8)\n",
      "(2020, 9)\n",
      "(2020, 10)\n",
      "(2020, 11)\n",
      "(2020, 12)\n",
      "www.google.fr\n",
      "(2020, 7)\n",
      "(2020, 8)\n",
      "(2020, 9)\n",
      "(2020, 10)\n",
      "(2020, 11)\n",
      "(2020, 12)\n",
      "www.amazon.fr\n",
      "(2020, 7)\n",
      "(2020, 8)\n",
      "(2020, 9)\n",
      "(2020, 10)\n",
      "(2020, 11)\n",
      "(2020, 12)\n"
     ]
    }
   ],
   "source": [
    "\"\"\"\n",
    "for website in dictory_of_urls:\n",
    "       website_name = website\n",
    "       print(website)\n",
    "       for url in dictory_of_urls[website]:\n",
    "           print(url[1])\n",
    "\"\"\""
   ]
  },
  {
   "cell_type": "code",
   "execution_count": 16,
   "id": "f77d57fd",
   "metadata": {},
   "outputs": [],
   "source": [
    "\"\"\"\n",
    "# Selenium Firefox setup\n",
    "options = FirefoxOptions()\n",
    "# options.headless = True\n",
    "service = FirefoxService(r'C:\\Program Files\\Mozilla Firefox\\geckodriver.exe')\n",
    "driver = webdriver.Firefox(service=service, options=options)\n",
    "\"\"\""
   ]
  },
  {
   "cell_type": "code",
   "execution_count": null,
   "id": "81645570",
   "metadata": {},
   "outputs": [],
   "source": [
    "def remJSON():\n",
    "    mydir = r\"V:\\Uni\\Thesis\\Code\\Thesis\"\n",
    "    filelist = glob.glob(os.path.join(mydir, \"*.JSON\"))\n",
    "    for f in filelist:\n",
    "        os.remove(f)"
   ]
  },
  {
   "cell_type": "code",
   "execution_count": null,
   "id": "81466c19",
   "metadata": {},
   "outputs": [],
   "source": [
    "def createJSON():\n",
    "    # Store JSON log\n",
    "    with open(\"{}_all_urls.txt\".format(\"Urls\"), 'w') as outfile:\n",
    "                    json.dump(dictory_of_urls, outfile, indent = 4)"
   ]
  }
 ],
 "metadata": {
  "kernelspec": {
   "display_name": "Python 3 (ipykernel)",
   "language": "python",
   "name": "python3"
  },
  "language_info": {
   "codemirror_mode": {
    "name": "ipython",
    "version": 3
   },
   "file_extension": ".py",
   "mimetype": "text/x-python",
   "name": "python",
   "nbconvert_exporter": "python",
   "pygments_lexer": "ipython3",
   "version": "3.11.5"
  }
 },
 "nbformat": 4,
 "nbformat_minor": 5
}
