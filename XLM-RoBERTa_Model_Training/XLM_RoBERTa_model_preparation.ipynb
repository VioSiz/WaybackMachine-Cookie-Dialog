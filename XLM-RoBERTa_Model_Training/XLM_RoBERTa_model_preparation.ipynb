{
 "cells": [
  {
   "cell_type": "code",
   "execution_count": null,
   "id": "873e5296",
   "metadata": {},
   "outputs": [],
   "source": [
    "%run global_vars.ipynb\n",
    "%run XLM_RoBERTa_model_execution.ipynb"
   ]
  },
  {
   "cell_type": "code",
   "execution_count": null,
   "id": "9d093551",
   "metadata": {},
   "outputs": [],
   "source": [
    "print('1: Cookie dialog model')\n",
    "print('2: Buttons model model')\n",
    "choice = int(input('Which model would you like to train? '))\n",
    "choice_runs = int(input('How many runs do you want to do? '))"
   ]
  },
  {
   "cell_type": "code",
   "execution_count": null,
   "id": "fdd03971",
   "metadata": {},
   "outputs": [],
   "source": [
    "if choice == 1:\n",
    "    number_of_runs = choice_runs\n",
    "    classification_filename = classification_dialog_filename\n",
    "    model_savedir = model_savedir_dialog\n",
    "    model_type = \"cookie dialog\"\n",
    "elif choice == 2:\n",
    "    number_of_runs = choice_runs\n",
    "    classification_filename = classification_buttons_filename\n",
    "    model_savedir = model_savedir_buttons\n",
    "    model_type = \"buttons\""
   ]
  },
  {
   "cell_type": "code",
   "execution_count": null,
   "id": "0af6b293",
   "metadata": {
    "scrolled": true
   },
   "outputs": [],
   "source": [
    "main(number_of_runs, classification_filename, model_savedir, model_type)"
   ]
  }
 ],
 "metadata": {
  "interpreter": {
   "hash": "d6d375a6e2c1dd629f8ae9029f5d025192cb72fe1211813c90f07a61aadb7945"
  },
  "kernelspec": {
   "display_name": "Python 3 (ipykernel)",
   "language": "python",
   "name": "python3"
  },
  "language_info": {
   "codemirror_mode": {
    "name": "ipython",
    "version": 3
   },
   "file_extension": ".py",
   "mimetype": "text/x-python",
   "name": "python",
   "nbconvert_exporter": "python",
   "pygments_lexer": "ipython3",
   "version": "3.10.8"
  }
 },
 "nbformat": 4,
 "nbformat_minor": 5
}
