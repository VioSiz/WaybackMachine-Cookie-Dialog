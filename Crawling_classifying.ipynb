{
 "cells": [
  {
   "cell_type": "code",
   "execution_count": 19,
   "id": "8be1fc06",
   "metadata": {},
   "outputs": [],
   "source": [
    "import datetime\n",
    "from time import sleep\n",
    "from time import time\n",
    "\n",
    "from selenium import webdriver\n",
    "from selenium.webdriver.common.by import By\n",
    "from selenium.webdriver.firefox.firefox_binary import FirefoxBinary\n",
    "from selenium.webdriver.firefox.options import Options as FirefoxOptions\n",
    "from selenium.webdriver.firefox.service import Service as FirefoxService\n",
    "from selenium.webdriver.support import expected_conditions as EC\n",
    "from selenium.webdriver.support.ui import WebDriverWait\n",
    "from tranco import Tranco\n",
    "from bs4 import BeautifulSoup\n",
    "from bs4 import Doctype\n",
    "from bs4.element import ResultSet\n",
    "import json\n",
    "import waybackpy\n",
    "\n",
    "from simpletransformers.classification import ClassificationModel\n",
    "from simpletransformers.config.model_args import ClassificationArgs\n",
    "from transformers import XLMRobertaTokenizer, XLMRobertaForSequenceClassification\n",
    "\n",
    "import os\n",
    "os.environ[\"TOKENIZERS_PARALLELISM\"] = \"false\"\n"
   ]
  },
  {
   "cell_type": "code",
   "execution_count": 2,
   "id": "6a3817e3",
   "metadata": {},
   "outputs": [],
   "source": [
    "def setup_firefox_driver():\n",
    "    \"\"\"\n",
    "    Sets up the Selenium Firefox driver with headless options.\n",
    "\n",
    "    Returns:\n",
    "        webdriver: The configured Firefox webdriver instance.\n",
    "    \"\"\"\n",
    "    firefox_options = FirefoxOptions()\n",
    "    firefox_options.add_argument(\"--headless\")\n",
    "    driver = webdriver.Firefox(options=firefox_options)\n",
    "    return driver\n"
   ]
  },
  {
   "cell_type": "code",
   "execution_count": 3,
   "id": "1a32639e",
   "metadata": {},
   "outputs": [],
   "source": [
    "def extract_text_from_element(element):\n",
    "    \"\"\"\n",
    "    Extracts the text content from a given element.\n",
    "\n",
    "    Args:\n",
    "        element (bs4.element.Tag): The HTML element.\n",
    "\n",
    "    Returns:\n",
    "        str: The text content of the element.\n",
    "    \"\"\"\n",
    "    \n",
    "    return element.get_text().strip()\n",
    "\n",
    "def extract_text_from_elements(elements):\n",
    "    \"\"\"\n",
    "    Extracts the text content from a list of elements.\n",
    "\n",
    "    Args:\n",
    "        elements (list): The list of HTML elements.\n",
    "\n",
    "    Returns:\n",
    "        list: The text content of the elements.\n",
    "    \"\"\"\n",
    "    \n",
    "    \n",
    "    return [extract_text_from_element(element) for element in elements]\n",
    "\n",
    "\n"
   ]
  },
  {
   "cell_type": "code",
   "execution_count": 29,
   "id": "ba1ec080",
   "metadata": {},
   "outputs": [],
   "source": [
    "def pass_to_ml_model_dialog(text_content):\n",
    "    ML_dir_cookie_dialog = \"./models/dialogue_model0\"\n",
    "\n",
    "    model_dialog = ClassificationModel(\"xlmroberta\", ML_dir_cookie_dialog, args={\"silent\": True}, use_cuda=False)\n",
    "    for ele in text_content:\n",
    "        if len(ele) > 125:\n",
    "            if model_dialog.predict([ele])[0][0] == 'True':\n",
    "                return ele\n",
    "    return \"not found\"\n",
    "\n",
    "\n",
    "def pass_to_ml_model_dialog_text(ele):\n",
    "    \n",
    "    ML_dir_cookie_dialog = \"./models/dialogue_model0\"\n",
    "    model_dialog = ClassificationModel(\"xlmroberta\", ML_dir_cookie_dialog, args={\"silent\": True}, use_cuda=False)\n",
    "    if len(ele) > 125:\n",
    "            if model_dialog.predict([ele])[0][0] == 'True':\n",
    "                return ele\n",
    "    return \"not found\"\n",
    "\n",
    "# def pass_to_ml_model_buttons(text_content):\n",
    "    \n",
    "#     ML_dir_buttons = \"./models/buttons_model0\"\n",
    "    \n",
    "#     buttons_clas ={\"ACCEPT\":[], \"DECLINE\": []}\n",
    "#     checked = []\n",
    "\n",
    "#     model_buttons = ClassificationModel(\"xlmroberta\", ML_dir_buttons, args={\"silent\": True}, use_cuda=False)\n",
    "#     for ele in text_content:\n",
    "#         if not ele in checked:\n",
    "#             if len(ele) > 1 and len(ele) < 35:\n",
    "#                 if isinstance(ele, list) or isinstance(ele, ResultSet):\n",
    "#                     for e in ele:\n",
    "#                         predict = model_buttons.predict([str(e)])[0][0]\n",
    "#                         if predict == 'ACCEPT':\n",
    "#                             buttons_clas[\"ACCEPT\"].append(e)\n",
    "#                         elif predict == 'DECLINE':\n",
    "#                             buttons_clas[\"DECLINE\"].append(e)\n",
    "#                 else:\n",
    "#                     predict = model_buttons.predict([str(ele)])[0][0]\n",
    "#                     if predict == 'ACCEPT':\n",
    "#                         buttons_clas[\"ACCEPT\"].append(ele)\n",
    "#                     elif predict == 'DECLINE':\n",
    "#                         buttons_clas[\"DECLINE\"].append(ele)\n",
    "#         checked.append(ele)\n",
    "#     return buttons_clas\n",
    "\n",
    "def pass_to_ml_model_buttons(text_content):\n",
    "    ML_dir_buttons = \"./models/buttons_model0\"\n",
    "    buttons_clas ={\"ACCEPT\":[], \"DECLINE\": []}\n",
    "    checked = []\n",
    "    to_verify = []\n",
    "    model_buttons = ClassificationModel(\"xlmroberta\", ML_dir_buttons, args={\"silent\": True}, use_cuda=False)\n",
    "    for ele in text_content:\n",
    "        if not ele in checked:\n",
    "            if len(ele) > 1 and len(ele) < 35:\n",
    "                if isinstance(ele, list) or isinstance(ele, ResultSet):\n",
    "                    for e in ele:\n",
    "                        to_verify.append(e)\n",
    "                else:\n",
    "                    to_verify.append(ele)\n",
    "        checked.append(ele)\n",
    "    \n",
    "    predict = model_buttons.predict(to_verify)\n",
    "    \n",
    "    for i, pred in enumerate(predict[0]):\n",
    "        if pred == 'ACCEPT':\n",
    "            buttons_clas[\"ACCEPT\"].append(to_verify[i])\n",
    "        elif pred == 'DECLINE':\n",
    "            buttons_clas[\"DECLINE\"].append(to_verify[i])\n",
    "            \n",
    "    return buttons_clas\n"
   ]
  },
  {
   "cell_type": "code",
   "execution_count": 5,
   "id": "465133e8",
   "metadata": {},
   "outputs": [],
   "source": [
    "def search_frames(iframes, text_content, button_elements, depth = 0):\n",
    "    for iframe in iframes:\n",
    "        try:\n",
    "            iframe_elements = iframe.find_all(['a', 'button', 'input', 'yt-formatted-string', 'p', 'span', 'form'])\n",
    "            buttons = iframe.find_all(['button', 'input', 'span', 'a'])\n",
    "            text_content.extend(extract_text_from_elements(iframe_elements))\n",
    "            button_elements.extend(extract_text_from_elements(buttons))\n",
    "            nested_iframes = iframe.find_all(['div', 'iframe'])\n",
    "            if depth < 10:\n",
    "                for nested_iframe in nested_iframes:\n",
    "                    search_frames(nested_iframe, text_content, button_elements, depth + 1)\n",
    "                #iframe_elements = nested_iframe.find_all(['a', 'button', 'input', 'yt-formatted-string', 'p'])\n",
    "                #text_content.extend(extract_text_from_elements(iframe_elements))\n",
    "        except Exception as e:\n",
    "            pass"
   ]
  },
  {
   "cell_type": "code",
   "execution_count": 1,
   "id": "4d381e57",
   "metadata": {},
   "outputs": [],
   "source": [
    "def main(url):\n",
    "    \"\"\"\n",
    "    Main function to extract iframes and active elements from a web page and pass them to an ML model.\n",
    "\n",
    "    Args:\n",
    "        url (str): The URL of the web page.\n",
    "    \"\"\"\n",
    "    driver = setup_firefox_driver()\n",
    "    driver.get(url)\n",
    "    sleep(5)\n",
    "    html = driver.page_source\n",
    "\n",
    "    soup = BeautifulSoup(html, 'html.parser')\n",
    "    \n",
    "    iframes = soup.find_all(['div', 'iframe'])\n",
    "    active_elements = soup.find_all(['a', 'button', 'input', 'yt-formatted-string', 'p', 'span', 'form'])\n",
    "    \n",
    "    #button_elements = soup.find_all(['button', 'input', 'span', 'a'])\n",
    "    button_elements = soup.find_all(['button', 'input[type=\"submit\"]', 'a'])\n",
    "    \n",
    "\n",
    "    # Extract text content from iframes and active elements\n",
    "    text_content = extract_text_from_elements(active_elements)\n",
    "        \n",
    "    button_text = extract_text_from_elements(button_elements)\n",
    "    #text_content.extend(extract_text_from_iframes(iframes, driver))\n",
    "    \n",
    "    #check = search_dialog(iframes, text_content)\n",
    "    search_frames(iframes, text_content, button_text)\n",
    "    \n",
    "    driver.quit()\n",
    "    dialog_result = pass_to_ml_model_dialog(text_content)\n",
    "    if dialog_result != \"not found\":\n",
    "        return (dialog_result, pass_to_ml_model_buttons(button_text))\n",
    "    return \"not found\"\n"
   ]
  },
  {
   "cell_type": "code",
   "execution_count": 26,
   "id": "68cced8f",
   "metadata": {
    "scrolled": true
   },
   "outputs": [
    {
     "name": "stderr",
     "output_type": "stream",
     "text": [
      "/opt/homebrew/lib/python3.10/site-packages/simpletransformers/classification/classification_model.py:486: UserWarning: use_multiprocessing automatically disabled as xlmroberta fails when using multiprocessing for feature conversion.\n",
      "  warnings.warn(\n"
     ]
    },
    {
     "name": "stdout",
     "output_type": "stream",
     "text": [
      "45.47003793716431\n"
     ]
    }
   ],
   "source": [
    "# Test with a sample URL\n",
    "url = 'https://youtube.com'\n",
    "start = time()\n",
    "butlist = main(url)\n",
    "print(time()-start)\n"
   ]
  },
  {
   "cell_type": "code",
   "execution_count": 27,
   "id": "2ea44175",
   "metadata": {
    "scrolled": true
   },
   "outputs": [
    {
     "data": {
      "text/plain": [
       "('Non-personalized content and ads are influenced by things like the content you’re currently viewing and your location (ad serving is based on general location). Personalized content and ads can also include things like video recommendations, a customized YouTube homepage, and tailored ads based on past activity, like the videos you watch and the things you search for on YouTube. We also use cookies and data to tailor the experience to be age-appropriate, if relevant.',\n",
       " {'ACCEPT': ['respect 😱🤯🔥', 'Cancel', 'Confirm', 'Live', 'en', 'Accept all'],\n",
       "  'DECLINE': ['How Ridiculous',\n",
       "   'Indiana Jones - Destined To Flop',\n",
       "   'Do ONLY Dutch People Do This?',\n",
       "   'Reject all']})"
      ]
     },
     "execution_count": 27,
     "metadata": {},
     "output_type": "execute_result"
    }
   ],
   "source": [
    "butlist\n"
   ]
  },
  {
   "cell_type": "code",
   "execution_count": 30,
   "id": "1bf14d09",
   "metadata": {},
   "outputs": [],
   "source": [
    "to_visit = {'amazon.fr': [\n",
    "                       ('https://web.archive.org/web/20201029205242/https://www.amazon.fr/', (2020, 10)), \n",
    "                       ('https://web.archive.org/web/20201129165445/https://www.amazon.fr/', (2020, 11)), \n",
    "                       ('https://web.archive.org/web/20201229171608/https://www.amazon.fr/', (2020, 12))]}"
   ]
  },
  {
   "cell_type": "code",
   "execution_count": 31,
   "id": "0938ac41",
   "metadata": {},
   "outputs": [],
   "source": [
    "webs = []\n",
    "for web in to_visit:\n",
    "    webs.append(web)"
   ]
  },
  {
   "cell_type": "code",
   "execution_count": 32,
   "id": "84729aa7",
   "metadata": {},
   "outputs": [
    {
     "name": "stderr",
     "output_type": "stream",
     "text": [
      "/opt/homebrew/lib/python3.10/site-packages/simpletransformers/classification/classification_model.py:486: UserWarning: use_multiprocessing automatically disabled as xlmroberta fails when using multiprocessing for feature conversion.\n",
      "  warnings.warn(\n"
     ]
    },
    {
     "name": "stdout",
     "output_type": "stream",
     "text": [
      "('https://web.archive.org/web/20201029205242/https://www.amazon.fr/', (2020, 10))\n",
      "(\"Choisir vos préférences en matière de cookiesNous utilisons des cookies et des outils similaires pour faciliter vos achats, fournir nos services, pour comprendre comment les clients utilisent nos services afin de pouvoir apporter des améliorations, et pour présenter des annonces. Des tiers approuvés ont également recours à ces outils dans le cadre de notre affichage d’annonces.Désolé, un problème s'est produit lors de l'enregistrement de vos préférences en matière de cookies. Veuillez réessayer.Accepter les cookiesPersonnaliser les cookies\", {'ACCEPT': ['Accepter les cookies', 'Compte', 'Tout voir', 'La nouvelle saison est là', 'Inde'], 'DECLINE': ['Voir tout', 'Voir plus', 'Denim', 'Voir tous les produits']})\n"
     ]
    }
   ],
   "source": [
    "for web in webs:\n",
    "    for web_visit in to_visit[web]:\n",
    "        results_web = main(web_visit[0])\n",
    "        if not ( results_web == \"not found\"):\n",
    "            print(web_visit)\n",
    "            print(results_web)\n",
    "            break"
   ]
  },
  {
   "cell_type": "code",
   "execution_count": null,
   "id": "e17ee441",
   "metadata": {},
   "outputs": [],
   "source": []
  },
  {
   "cell_type": "code",
   "execution_count": null,
   "id": "8066f0bf",
   "metadata": {},
   "outputs": [],
   "source": []
  },
  {
   "cell_type": "code",
   "execution_count": null,
   "id": "6ad2dc00",
   "metadata": {},
   "outputs": [],
   "source": [
    "from ipynb.fs.full.Crawling import *"
   ]
  },
  {
   "cell_type": "markdown",
   "id": "17d7a6b8",
   "metadata": {},
   "source": [
    "### Code not used at this moment, mainly try out code: \n"
   ]
  },
  {
   "cell_type": "code",
   "execution_count": 120,
   "id": "202bc7d4",
   "metadata": {
    "scrolled": true
   },
   "outputs": [
    {
     "name": "stdout",
     "output_type": "stream",
     "text": [
      "<class 'bs4.element.Tag'>\n"
     ]
    }
   ],
   "source": [
    "driver = setup_firefox_driver()\n",
    "driver.get(\"https://bbc.com\")\n",
    "\n",
    "sleep(3)\n",
    "\n",
    "html = driver.page_source\n",
    "\n",
    "soup = BeautifulSoup(html, 'html.parser')\n",
    "\n",
    "iframes = soup.find_all(['div'])\n",
    "\n",
    "iframe = iframes[-1].find_all(['iframe'][0])\n",
    "\n",
    "print(type(iframe[0]))\n",
    "\n",
    "\n",
    "#driver.switch_to.frame(iframe[0])\n",
    "\n",
    "#driver.switch_to.frame(\"sp_message_iframe_783538\")\n",
    "\n",
    "#html = driver.page_source\n",
    "\n",
    "#soup = BeautifulSoup(html, 'html.parser')\n",
    "\n",
    "#print(iframe_soup.find('#document'))\n",
    "#print(iframes)\n",
    "\n",
    "#print(iframes[-1].find_all(['iframe'][0].find('#document')))\n",
    "\n",
    "driver.quit()\n",
    "\n",
    "\n",
    "\n"
   ]
  },
  {
   "cell_type": "code",
   "execution_count": 15,
   "id": "0d855bef",
   "metadata": {},
   "outputs": [],
   "source": [
    "def search_dialog(iframes, text_content):\n",
    "    counter = 0\n",
    "    for iframe in iframes:\n",
    "        try:\n",
    "            iframe_elements = iframe.find_all(['a', 'button', 'input', 'yt-formatted-string', 'p'])\n",
    "            elements_text = extract_text_from_elements(iframe_elements)\n",
    "            for element in text_content + elements_text: \n",
    "                if element:\n",
    "                    print(counter)\n",
    "                    counter+=1\n",
    "                    check = pass_to_ml_model_dialog_text(element)\n",
    "                    if not ( check == \"not found\"):\n",
    "                        return check\n",
    "            text_content = []\n",
    "            text_content.extend(extract_text_from_elements(iframe_elements))\n",
    "            nested_iframes = iframe.find_all(['div', 'iframe'])\n",
    "            for nested_iframe in nested_iframes:\n",
    "                #search_dialog(nested_iframe, text_content)\n",
    "                iframe_elements = nested_iframe.find_all(['a', 'button', 'input', 'yt-formatted-string', 'p'])\n",
    "                text_content.extend(extract_text_from_elements(iframe_elements))\n",
    "        except:\n",
    "            pass"
   ]
  },
  {
   "cell_type": "code",
   "execution_count": null,
   "id": "71f47652",
   "metadata": {},
   "outputs": [],
   "source": [
    "def search_dialog(soup):\n",
    "    try:\n",
    "        iframe_elements = soup.find_all(['a', 'button', 'input', 'yt-formatted-string', 'p'])\n",
    "        elements_text = extract_text_from_elements(iframe_elements)\n",
    "        for element in elements_text: \n",
    "            if element:\n",
    "                check = pass_to_ml_model_dialog_text(element)\n",
    "                if not ( check == \"not found\"):\n",
    "                    return check\n",
    "            \n",
    "        nested_iframes = soup.find_all(['div', 'iframe'])\n",
    "        for nested_iframe in nested_iframes:\n",
    "            end_loop = search_frames(nested_iframe)\n",
    "            if not (end_loop == \"not found\"):\n",
    "                return end_loop\n",
    "        return \"not found\"\n",
    "    except:\n",
    "        pass"
   ]
  },
  {
   "cell_type": "code",
   "execution_count": null,
   "id": "bc2daae0",
   "metadata": {},
   "outputs": [],
   "source": [
    "def extract_text_from_iframes(iframes, driver):\n",
    "    \"\"\"\n",
    "    Extracts the text content from a list of iframes and their child iframes.\n",
    "\n",
    "    Args:\n",
    "        iframes (list): The list of iframe elements.\n",
    "\n",
    "    Returns:\n",
    "        list: The text content from iframes and their child iframes.\n",
    "    \"\"\"\n",
    "    text_content = []\n",
    "    \n",
    "\n",
    "    for iframe in iframes:\n",
    "        print(iframe)\n",
    "        driver.switch_to.frame(iframe['name'])\n",
    "        html = driver.page_source\n",
    "        soup = BeautifulSoup(html, 'html.parser')\n",
    "        iframe_elements = soup.find_all(['a', 'button', 'input', 'iframe'])\n",
    "        text_content.extend(extract_text_from_elements(iframe_elements))\n",
    "        nested_iframes = soup.find_all('iframe')\n",
    "        for nested_iframe in nested_iframes:\n",
    "            extract_text_from_iframe(nested_iframe, driver)\n",
    "        driver.switch_to.default_content()\n",
    "\n",
    "    driver.quit()\n",
    "    return text_content\n",
    "\n"
   ]
  },
  {
   "cell_type": "code",
   "execution_count": null,
   "id": "45075216",
   "metadata": {},
   "outputs": [],
   "source": [
    "def search_frames(iframes, text_content, button_text):\n",
    "    for iframe in iframes:\n",
    "        try:\n",
    "            iframe_elements = iframe.find_all(['a', 'button', 'input', 'yt-formatted-string', 'p'])\n",
    "            text_content.extend(extract_text_from_elements(iframe_elements))\n",
    "            nested_iframes = iframe.find_all(['div', 'iframe'])\n",
    "            for nested_iframe in nested_iframes:\n",
    "                search_frames(nested_iframe, text_content, button_text)\n",
    "        except:\n",
    "            pass"
   ]
  },
  {
   "cell_type": "code",
   "execution_count": null,
   "id": "6cef59e2",
   "metadata": {
    "scrolled": true
   },
   "outputs": [],
   "source": [
    "# Test with a sample URL\n",
    "url = 'https://bbc.com'\n",
    "print(main(url))"
   ]
  },
  {
   "cell_type": "code",
   "execution_count": null,
   "id": "30609e24",
   "metadata": {},
   "outputs": [],
   "source": []
  },
  {
   "cell_type": "code",
   "execution_count": null,
   "id": "ca929bf6",
   "metadata": {},
   "outputs": [],
   "source": [
    "# Test with a sample URL\n",
    "url = 'https://bbc.com'\n",
    "print(main(url))"
   ]
  },
  {
   "cell_type": "code",
   "execution_count": null,
   "id": "67f70971",
   "metadata": {},
   "outputs": [],
   "source": [
    "def search_frames(iframes, text_content):\n",
    "    for iframe in iframes:\n",
    "        try:\n",
    "            iframe_elements = iframe.find_all(['button'])\n",
    "            text_content.extend(extract_text_from_elements(iframe_elements))\n",
    "            nested_iframes = iframe.find_all(['div'])\n",
    "            for nested_iframe in nested_iframes:\n",
    "                iframe_elements = nested_iframe.find_all(['button'])\n",
    "                text_content.extend(extract_text_from_elements(iframe_elements))\n",
    "        except:\n",
    "            pass\n",
    "def main(url):\n",
    "    \"\"\"\n",
    "    Main function to extract iframes and active elements from a web page and pass them to an ML model.\n",
    "\n",
    "    Args:\n",
    "        url (str): The URL of the web page.\n",
    "    \"\"\"\n",
    "    driver = setup_firefox_driver()\n",
    "    driver.get(url)\n",
    "    sleep(10)\n",
    "    html = driver.page_source\n",
    "\n",
    "    soup = BeautifulSoup(html, 'html.parser')\n",
    "    iframes = soup.find_all(['div', 'iframe'])\n",
    "    active_elements = soup.find_all(['button'])\n",
    "\n",
    "    # Extract text content from iframes and active elements\n",
    "    text_content = extract_text_from_elements(active_elements)\n",
    "    #text_content.extend(extract_text_from_iframes(iframes, driver))\n",
    "    \n",
    "    search_frames(iframes, text_content)\n",
    "    \n",
    "    #print(active_elements)\n",
    "    driver.quit()\n",
    "    # Pass the text content to the ML model\n",
    "    print(len(text_content))\n",
    "    return pass_to_ml_model(text_content)"
   ]
  },
  {
   "cell_type": "code",
   "execution_count": null,
   "id": "4645d2c2",
   "metadata": {},
   "outputs": [],
   "source": []
  }
 ],
 "metadata": {
  "kernelspec": {
   "display_name": "Python 3 (ipykernel)",
   "language": "python",
   "name": "python3"
  },
  "language_info": {
   "codemirror_mode": {
    "name": "ipython",
    "version": 3
   },
   "file_extension": ".py",
   "mimetype": "text/x-python",
   "name": "python",
   "nbconvert_exporter": "python",
   "pygments_lexer": "ipython3",
   "version": "3.11.4"
  }
 },
 "nbformat": 4,
 "nbformat_minor": 5
}
